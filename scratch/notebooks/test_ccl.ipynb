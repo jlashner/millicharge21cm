{
 "cells": [
  {
   "cell_type": "code",
   "execution_count": 54,
   "metadata": {},
   "outputs": [],
   "source": [
    "import matplotlib.pyplot as plt\n",
    "import numpy as np\n",
    "import classy\n",
    "\n",
    "from astropy.cosmology import Planck18_arXiv_v2 as Planck\n",
    "\n",
    "kmax = 500\n",
    "\n",
    "h = Planck.h\n",
    "class LCDM:\n",
    "    h = h\n",
    "    H0 = Planck.H0.value\n",
    "    omega_b = Planck.Ob0 * h ** 2\n",
    "    omega_cdm = (Planck.Om0 - Planck.Ob0) * h ** 2\n",
    "    omega_nu = Planck.Onu0\n",
    "    omega_k = Planck.Ok0\n",
    "\n",
    "    m_ncdm = sum(Planck.m_nu).value\n",
    "    Neff = Planck.Neff\n",
    "    N_ncdm = 1\n",
    "    N_ur = Planck.Neff - N_ncdm\n",
    "\n",
    "    Tcmb = Planck.Tcmb0.value\n",
    "    A_s = 2.097e-9\n",
    "    tau_reio = 0.0540\n",
    "    n_s = 0.9652\n",
    "    YHe = 0.24537116583825905\n",
    "    reion_exponent = 1.5\n",
    "    reion_width = 0.5\n",
    "\n",
    "    @classmethod\n",
    "    def class_params(self):\n",
    "        return {\n",
    "            'h': self.h, 'omega_b': self.omega_b, 'omega_cdm': self.omega_cdm,\n",
    "            'Omega_k': self.omega_k, 'N_ur': self.N_ur, 'N_ncdm': self.N_ncdm,\n",
    "            'm_ncdm': self.m_ncdm, 'A_s': self.A_s, 'n_s': self.n_s,\n",
    "            'T_cmb': self.Tcmb, 'tau_reio': self.tau_reio, 'YHe': self.YHe,\n",
    "            'reionization_exponent': self.reion_exponent,\n",
    "            'reionization_width': self.reion_width, 'P_k_max_1/Mpc': kmax,\n",
    "            'output': 'dTk,mPk,tCl',\n",
    "        }\n",
    "\n"
   ]
  },
  {
   "cell_type": "code",
   "execution_count": 78,
   "metadata": {},
   "outputs": [],
   "source": [
    "m_dmeff = 1.0e-3  # GeV\n",
    "sigma_dmeff = 1e-41  # cm^2\n",
    "# sigma_dmeff = 1e-40\n",
    "Vrel_dmeff = 30 # km/s at z ~ 1010\n",
    "\n",
    "z_pk = 60.\n",
    "\n",
    "params_lcdm = LCDM.class_params()\n",
    "params_lcdm.update({'z_pk': z_pk})\n",
    "\n",
    "params_idm = dict(params_lcdm)\n",
    "params_idm.update({\n",
    "    'omega_dmeff': 0.12038, 'omega_cdm': 1e-10, 'm_dmeff': m_dmeff,\n",
    "    'sigma_dmeff': sigma_dmeff, 'npow_dmeff': -4, 'Vrel_dmeff': Vrel_dmeff\n",
    "})\n",
    "\n",
    "\n",
    "cl_lcdm = classy.Class()\n",
    "cl_lcdm.set(params_lcdm)\n",
    "cl_lcdm.compute()\n",
    "\n",
    "cl_idm = classy.Class()\n",
    "cl_idm.set(params_idm)\n",
    "cl_idm.compute()\n"
   ]
  },
  {
   "cell_type": "code",
   "execution_count": 79,
   "metadata": {},
   "outputs": [],
   "source": [
    "import pyccl as ccl\n",
    "\n",
    "\n",
    "cosmo_lcdm = ccl.Cosmology(Omega_c=params_lcdm['omega_cdm'], \n",
    "                      Omega_b=params_lcdm['omega_b'],\n",
    "                      h=params_lcdm['h'],\n",
    "                      n_s=params_lcdm['n_s'], A_s=params_lcdm['A_s'])\n",
    "\n",
    "cosmo_idm = ccl.Cosmology(Omega_c=params_idm['omega_dmeff'], \n",
    "                      Omega_b=params_idm['omega_b'],\n",
    "                      h=params_idm['h'],\n",
    "                      n_s=params_idm['n_s'], A_s=params_idm['A_s'])\n",
    "\n",
    "# adapting from here: https://github.com/damonge/ShCl_like/blob/0350b0cca5de51cd92efb8e27be292bbbb449bce/shcl_like/clccl.py#L141\n",
    "\n",
    "z_bg = np.concatenate((np.linspace(0, 10, 100), np.geomspace(10, 1500, 50)))\n",
    "z_pk = np.linspace(0., 20., 64)\n",
    "\n",
    "k_arr = np.logspace(-5, np.log10(kmax), 1000)\n",
    "\n",
    "def set_cosmo_arrays(cosmo, cl, z_bg=z_bg, kmax=kmax, k_arr=k_arr, z_pk=z_pk):\n",
    "    \"\"\"Sets background and power arrays in cosmo using Class instance\n",
    "    \"\"\"\n",
    "    a = 1/(1 + z_bg[::-1])\n",
    "    distance = cl.z_of_r(z_bg)\n",
    "    distance = np.flip(distance)\n",
    "\n",
    "    hubble_z = np.array([cl.Hubble(z) for z in z_bg])\n",
    "    H0 = hubble_z[0]\n",
    "    E_of_z = hubble_z / H0\n",
    "    E_of_z = np.flip(E_of_z)\n",
    "\n",
    "    class_pk_lin = cl.get_pk_array(k_arr, z_pk, 1000, 64, False).reshape([64, 1000])[::-1, :]\n",
    "\n",
    "    cosmo._set_background_from_arrays(a_array=a, chi_array=distance, hoh0_array=E_of_z)\n",
    "    cosmo._set_linear_power_from_arrays(1./(1 + z_pk[::-1]), k_arr, class_pk_lin)\n",
    "    \n",
    "    return class_pk_lin\n",
    "    \n",
    "pk_lin_lcdm = set_cosmo_arrays(cosmo_lcdm, cl_lcdm)\n",
    "pk_lin_idm = set_cosmo_arrays(cosmo_idm, cl_idm)\n",
    "    \n",
    "# compute HMF                                                                                                                                                                                                      \n",
    "mdef = ccl.halos.MassDef(500, 'critical')\n",
    "\n",
    "hmf_lcdm = ccl.halos.MassFuncTinker08(cosmo_lcdm, mass_def=mdef)\n",
    "hmf_idm = ccl.halos.MassFuncTinker08(cosmo_idm, mass_def=mdef)"
   ]
  },
  {
   "cell_type": "code",
   "execution_count": 80,
   "metadata": {},
   "outputs": [],
   "source": [
    "import numpy as np\n",
    "Mgrid = np.logspace(6, 12, 100)\n",
    "\n",
    "def z_to_a(z):\n",
    "    return 1 / (1 + z)\n",
    "\n",
    "dndm_lcdm = hmf_lcdm.get_mass_function(cosmo_lcdm, Mgrid, z_to_a(60))\n",
    "dndm_idm = hmf_idm.get_mass_function(cosmo_idm, Mgrid, z_to_a(60))"
   ]
  },
  {
   "cell_type": "code",
   "execution_count": 81,
   "metadata": {},
   "outputs": [
    {
     "data": {
      "text/plain": [
       "(64, 1000)"
      ]
     },
     "execution_count": 81,
     "metadata": {},
     "output_type": "execute_result"
    }
   ],
   "source": [
    "pk_lin_lcdm.shape"
   ]
  },
  {
   "cell_type": "code",
   "execution_count": 82,
   "metadata": {},
   "outputs": [
    {
     "data": {
      "text/plain": [
       "array([ 0.        ,  0.31746032,  0.63492063,  0.95238095,  1.26984127,\n",
       "        1.58730159,  1.9047619 ,  2.22222222,  2.53968254,  2.85714286,\n",
       "        3.17460317,  3.49206349,  3.80952381,  4.12698413,  4.44444444,\n",
       "        4.76190476,  5.07936508,  5.3968254 ,  5.71428571,  6.03174603,\n",
       "        6.34920635,  6.66666667,  6.98412698,  7.3015873 ,  7.61904762,\n",
       "        7.93650794,  8.25396825,  8.57142857,  8.88888889,  9.20634921,\n",
       "        9.52380952,  9.84126984, 10.15873016, 10.47619048, 10.79365079,\n",
       "       11.11111111, 11.42857143, 11.74603175, 12.06349206, 12.38095238,\n",
       "       12.6984127 , 13.01587302, 13.33333333, 13.65079365, 13.96825397,\n",
       "       14.28571429, 14.6031746 , 14.92063492, 15.23809524, 15.55555556,\n",
       "       15.87301587, 16.19047619, 16.50793651, 16.82539683, 17.14285714,\n",
       "       17.46031746, 17.77777778, 18.0952381 , 18.41269841, 18.73015873,\n",
       "       19.04761905, 19.36507937, 19.68253968, 20.        ])"
      ]
     },
     "execution_count": 82,
     "metadata": {},
     "output_type": "execute_result"
    }
   ],
   "source": [
    "z_pk"
   ]
  },
  {
   "cell_type": "code",
   "execution_count": 83,
   "metadata": {},
   "outputs": [
    {
     "data": {
      "text/plain": [
       "[<matplotlib.lines.Line2D at 0x7ffc9a328670>]"
      ]
     },
     "execution_count": 83,
     "metadata": {},
     "output_type": "execute_result"
    },
    {
     "data": {
      "image/png": "[encoded data removed]",
      "text/plain": [
       "<Figure size 432x288 with 1 Axes>"
      ]
     },
     "metadata": {
      "needs_background": "light"
     },
     "output_type": "display_data"
    }
   ],
   "source": [
    "import matplotlib.pyplot as plt\n",
    "\n",
    "plt.semilogx(k_arr, pk_lin_idm[-1, :]/pk_lin_lcdm[-1, :])"
   ]
  },
  {
   "cell_type": "code",
   "execution_count": 65,
   "metadata": {},
   "outputs": [
    {
     "data": {
      "text/plain": [
       "<matplotlib.legend.Legend at 0x7ffd1e852610>"
      ]
     },
     "execution_count": 65,
     "metadata": {},
     "output_type": "execute_result"
    },
    {
     "data": {
      "image/png": "[encoded data removed]",
      "text/plain": [
       "<Figure size 432x288 with 1 Axes>"
      ]
     },
     "metadata": {
      "needs_background": "light"
     },
     "output_type": "display_data"
    }
   ],
   "source": [
    "plt.loglog(k_arr, pk_lin_lcdm[-1, :], label='lcdm')\n",
    "plt.loglog(k_arr, pk_lin_idm[-1, :], label='idm')\n",
    "plt.legend()"
   ]
  },
  {
   "cell_type": "code",
   "execution_count": 34,
   "metadata": {},
   "outputs": [
    {
     "data": {
      "text/plain": [
       "[<matplotlib.lines.Line2D at 0x7ffc99d928b0>]"
      ]
     },
     "execution_count": 34,
     "metadata": {},
     "output_type": "execute_result"
    },
    {
     "data": {
      "image/png": "[encoded data removed]",
      "text/plain": [
       "<Figure size 432x288 with 1 Axes>"
      ]
     },
     "metadata": {
      "needs_background": "light"
     },
     "output_type": "display_data"
    }
   ],
   "source": [
    "import matplotlib.pyplot as plt\n",
    "\n",
    "# plt.loglog(Mgrid, dndm_lcdm)\n",
    "# plt.loglog(Mgrid, dndm_idm)\n",
    "plt.loglog(Mgrid, dndm_idm/dndm_lcdm)"
   ]
  },
  {
   "cell_type": "code",
   "execution_count": null,
   "metadata": {},
   "outputs": [],
   "source": []
  }
 ],
 "metadata": {
  "kernelspec": {
   "display_name": "Python 3",
   "language": "python",
   "name": "python3"
  },
  "language_info": {
   "codemirror_mode": {
    "name": "ipython",
    "version": 3
   },
   "file_extension": ".py",
   "mimetype": "text/x-python",
   "name": "python",
   "nbconvert_exporter": "python",
   "pygments_lexer": "ipython3",
   "version": "3.8.3"
  }
 },
 "nbformat": 4,
 "nbformat_minor": 4
}
