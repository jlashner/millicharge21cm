{
 "cells": [
  {
   "cell_type": "code",
   "execution_count": 1,
   "metadata": {},
   "outputs": [],
   "source": [
    "import matplotlib.pyplot as plt\n",
    "import numpy as np\n",
    "import classy\n",
    "\n",
    "from astropy.cosmology import Planck18_arXiv_v2 as Planck\n",
    "\n",
    "kmax = 500\n",
    "\n",
    "h = Planck.h\n",
    "class LCDM:\n",
    "    h = h\n",
    "    H0 = Planck.H0.value\n",
    "    omega_b = Planck.Ob0 * h ** 2\n",
    "    omega_cdm = (Planck.Om0 - Planck.Ob0) * h ** 2\n",
    "    omega_nu = Planck.Onu0\n",
    "    omega_k = Planck.Ok0\n",
    "\n",
    "    m_ncdm = sum(Planck.m_nu).value\n",
    "    Neff = Planck.Neff\n",
    "    N_ncdm = 1\n",
    "    N_ur = Planck.Neff - N_ncdm\n",
    "\n",
    "    Tcmb = Planck.Tcmb0.value\n",
    "    A_s = 2.097e-9\n",
    "    tau_reio = 0.0540\n",
    "    n_s = 0.9652\n",
    "    YHe = 0.24537116583825905\n",
    "    reion_exponent = 1.5\n",
    "    reion_width = 0.5\n",
    "\n",
    "    @classmethod\n",
    "    def class_params(self):\n",
    "        return {\n",
    "            'h': self.h, 'omega_b': self.omega_b, 'omega_cdm': self.omega_cdm,\n",
    "            'Omega_k': self.omega_k, 'N_ur': self.N_ur, 'N_ncdm': self.N_ncdm,\n",
    "            'm_ncdm': self.m_ncdm, 'A_s': self.A_s, 'n_s': self.n_s,\n",
    "            'T_cmb': self.Tcmb, 'tau_reio': self.tau_reio, 'YHe': self.YHe,\n",
    "            'reionization_exponent': self.reion_exponent,\n",
    "            'reionization_width': self.reion_width, 'P_k_max_1/Mpc': kmax,\n",
    "            'output': 'dTk,mPk,tCl',\n",
    "        }\n",
    "\n"
   ]
  },
  {
   "cell_type": "code",
   "execution_count": 2,
   "metadata": {},
   "outputs": [],
   "source": [
    "m_dmeff = 1.0e-3  # GeV\n",
    "sigma_dmeff = 1e-41  # cm^2\n",
    "# sigma_dmeff = 1e-40\n",
    "Vrel_dmeff = 30 # km/s at z ~ 1010\n",
    "\n",
    "z_pk = 60.\n",
    "\n",
    "params_lcdm = LCDM.class_params()\n",
    "params_lcdm.update({'z_pk': z_pk})\n",
    "\n",
    "params_idm = dict(params_lcdm)\n",
    "params_idm.update({\n",
    "    'omega_dmeff': 0.12038, 'omega_cdm': 1e-10, 'm_dmeff': m_dmeff,\n",
    "    'sigma_dmeff': sigma_dmeff, 'npow_dmeff': -4, 'Vrel_dmeff': Vrel_dmeff\n",
    "})\n",
    "\n",
    "\n",
    "cl_lcdm = classy.Class()\n",
    "cl_lcdm.set(params_lcdm)\n",
    "cl_lcdm.compute()\n",
    "\n",
    "cl_idm = classy.Class()\n",
    "cl_idm.set(params_idm)\n",
    "cl_idm.compute()\n"
   ]
  },
  {
   "cell_type": "code",
   "execution_count": 3,
   "metadata": {},
   "outputs": [],
   "source": [
    "import pyccl as ccl\n",
    "\n",
    "\n",
    "cosmo_lcdm = ccl.Cosmology(Omega_c=params_lcdm['omega_cdm'], \n",
    "                      Omega_b=params_lcdm['omega_b'],\n",
    "                      h=params_lcdm['h'],\n",
    "                      n_s=params_lcdm['n_s'], A_s=params_lcdm['A_s'])\n",
    "\n",
    "cosmo_idm = ccl.Cosmology(Omega_c=params_idm['omega_dmeff'], \n",
    "                      Omega_b=params_idm['omega_b'],\n",
    "                      h=params_idm['h'],\n",
    "                      n_s=params_idm['n_s'], A_s=params_idm['A_s'])\n",
    "\n",
    "# adapting from here: https://github.com/damonge/ShCl_like/blob/0350b0cca5de51cd92efb8e27be292bbbb449bce/shcl_like/clccl.py#L141\n",
    "\n",
    "z_bg = np.concatenate((np.linspace(0, 10, 100), np.geomspace(10, 1500, 50)))  # mean recomb. history\n",
    "z_pk = np.linspace(0., 20., 64)  # ARES HMF tabulates over specified redshift, mass\n",
    "k_arr = np.logspace(-5, np.log10(kmax), 1000)\n",
    "\n",
    "def set_cosmo_arrays(cosmo, cl, z_bg=z_bg, kmax=kmax, k_arr=k_arr, z_pk=z_pk):\n",
    "    \"\"\"Sets background and power arrays in cosmo using Class instance\n",
    "    \"\"\"\n",
    "    a = 1/(1 + z_bg[::-1])\n",
    "    distance = cl.z_of_r(z_bg)\n",
    "    distance = np.flip(distance)\n",
    "\n",
    "    hubble_z = np.array([cl.Hubble(z) for z in z_bg])\n",
    "    H0 = hubble_z[0]\n",
    "    E_of_z = hubble_z / H0\n",
    "    E_of_z = np.flip(E_of_z)\n",
    "\n",
    "    class_pk_lin = cl.get_pk_array(k_arr, z_pk, 1000, 64, False).reshape([64, 1000])[::-1, :]\n",
    "\n",
    "    cosmo._set_background_from_arrays(a_array=a, chi_array=distance, hoh0_array=E_of_z)\n",
    "    cosmo._set_linear_power_from_arrays(1./(1 + z_pk[::-1]), k_arr, class_pk_lin)\n",
    "    \n",
    "    return class_pk_lin\n",
    "    \n",
    "# cosmo_lcdm = ccl.Cosmology(Omega_c=0.26030000000000003, Omega_b=0.0486, h=0.6774, n_s=0.9667, sigma8=0.8159, A_s=None, Omega_k=0.0, Omega_g=None, Neff=3.046, w0=-1.0, wa=0.0, T_CMB=None, bcm_log10Mc=14.079181246047625, bcm_etab=0.5, bcm_ks=55.0, mu_0=0.0, sigma_0=0.0, m_nu=0.0, m_nu_type=None, z_mg=None, df_mg=None, transfer_function='boltzmann_camb', matter_power_spectrum='halofit', baryons_power_spectrum='nobaryons', mass_function='tinker10', halo_concentration='duffy2008', emulator_neutrinos='strict')\n",
    "    \n",
    "pk_lin_lcdm = set_cosmo_arrays(cosmo_lcdm, cl_lcdm)\n",
    "pk_lin_idm = set_cosmo_arrays(cosmo_idm, cl_idm)\n",
    "    \n",
    "# compute HMF                                                                                                                                                                                                      \n",
    "mdef = ccl.halos.MassDef(500, 'critical')\n",
    "\n",
    "\n",
    "# # Do stuff Jordan wants to do in ARES\n",
    "# cosmo_lcdm.cosmo.gsl_params.INTEGRATION_EPSREL = 1e-8\n",
    "# cosmo_lcdm.cosmo.gsl_params.INTEGRATION_DISTANCE_EPSREL = 1e-5\n",
    "# cosmo_lcdm.cosmo.gsl_params.INTEGRATION_SIGMAR_EPSREL = 1e-12\n",
    "# cosmo_lcdm.cosmo.gsl_params.ODE_GROWTH_EPSREL = 1e-8\n",
    "# cosmo_lcdm.cosmo.gsl_params.EPS_SCALEFAC_GROWTH = 1e-8\n",
    "\n",
    "# # User responsible for making sure NM and DELTA are consistent.\n",
    "# cosmo_lcdm.cosmo.spline_params.LOGM_SPLINE_MIN = 4\n",
    "# cosmo_lcdm.cosmo.spline_params.LOGM_SPLINE_MAX = 18\n",
    "# cosmo_lcdm.cosmo.spline_params.LOGM_SPLINE_NM = 1400\n",
    "# cosmo_lcdm.cosmo.spline_params.LOGM_SPLINE_DELTA = 0.01\n",
    "\n",
    "# cosmo_lcdm.cosmo.spline_params.K_MIN = 1e-9\n",
    "# cosmo_lcdm.cosmo.spline_params.K_MAX = 10000\n",
    "# cosmo_lcdm.cosmo.spline_params.K_MAX_SPLINE = 10000\n",
    "# cosmo_lcdm.cosmo.spline_params.N_K = 1000\n",
    "\n",
    "# cosmo_lcdm.cosmo.spline_params.A_SPLINE_NA = 500\n",
    "\n",
    "# # IDM\n",
    "# cosmo_idm.cosmo.gsl_params.INTEGRATION_EPSREL = 1e-8\n",
    "# cosmo_idm.cosmo.gsl_params.INTEGRATION_DISTANCE_EPSREL = 1e-5\n",
    "# cosmo_idm.cosmo.gsl_params.INTEGRATION_SIGMAR_EPSREL = 1e-12\n",
    "# cosmo_idm.cosmo.gsl_params.ODE_GROWTH_EPSREL = 1e-8\n",
    "# cosmo_idm.cosmo.gsl_params.EPS_SCALEFAC_GROWTH = 1e-8\n",
    "\n",
    "# # User responsible for making sure NM and DELTA are consistent.\n",
    "# cosmo_idm.cosmo.spline_params.LOGM_SPLINE_MIN = 4\n",
    "# cosmo_idm.cosmo.spline_params.LOGM_SPLINE_MAX = 18\n",
    "# cosmo_idm.cosmo.spline_params.LOGM_SPLINE_NM = 1400\n",
    "# cosmo_idm.cosmo.spline_params.LOGM_SPLINE_DELTA = 0.01\n",
    "\n",
    "# cosmo_idm.cosmo.spline_params.K_MIN = 1e-9\n",
    "# cosmo_idm.cosmo.spline_params.K_MAX = 10000\n",
    "# cosmo_idm.cosmo.spline_params.K_MAX_SPLINE = 10000\n",
    "# cosmo_idm.cosmo.spline_params.N_K = 1000\n",
    "\n",
    "# cosmo_idm.cosmo.spline_params.A_SPLINE_NA = 500\n",
    "\n",
    "\n",
    "hmf_lcdm = ccl.halos.MassFuncTinker10(cosmo_lcdm, mass_def=mdef)\n",
    "hmf_idm = ccl.halos.MassFuncTinker10(cosmo_idm, mass_def=mdef)"
   ]
  },
  {
   "cell_type": "code",
   "execution_count": 6,
   "metadata": {},
   "outputs": [
    {
     "data": {
      "text/plain": [
       "878.9946110038518"
      ]
     },
     "execution_count": 6,
     "metadata": {},
     "output_type": "execute_result"
    }
   ],
   "source": [
    "hmf_lcdm._get_Delta_m(cosmo_lcdm, 0.5)"
   ]
  },
  {
   "cell_type": "code",
   "execution_count": 5,
   "metadata": {},
   "outputs": [],
   "source": [
    "import numpy as np\n",
    "Mgrid = np.logspace(6, 12, 100)\n",
    "\n",
    "def z_to_a(z):\n",
    "    return 1 / (1 + z)\n",
    "\n",
    "dndm_lcdm = hmf_lcdm.get_mass_function(cosmo_lcdm, Mgrid, z_to_a(60))\n",
    "dndm_idm = hmf_idm.get_mass_function(cosmo_idm, Mgrid, z_to_a(60))"
   ]
  },
  {
   "cell_type": "code",
   "execution_count": 5,
   "metadata": {},
   "outputs": [
    {
     "name": "stdout",
     "output_type": "stream",
     "text": [
      "NOTE: Enter 'c' at the ipdb>  prompt to continue execution.\n",
      "> \u001b[0;32m<string>\u001b[0m(1)\u001b[0;36m<module>\u001b[0;34m()\u001b[0m\n",
      "\n"
     ]
    },
    {
     "name": "stdin",
     "output_type": "stream",
     "text": [
      "ipdb>  s\n"
     ]
    },
    {
     "name": "stdout",
     "output_type": "stream",
     "text": [
      "> \u001b[0;32m<string>\u001b[0m(2)\u001b[0;36m<module>\u001b[0;34m()\u001b[0m\n",
      "\n"
     ]
    },
    {
     "name": "stdin",
     "output_type": "stream",
     "text": [
      "ipdb>  s\n"
     ]
    },
    {
     "name": "stdout",
     "output_type": "stream",
     "text": [
      "> \u001b[0;32m<string>\u001b[0m(3)\u001b[0;36m<module>\u001b[0;34m()\u001b[0m\n",
      "\n"
     ]
    },
    {
     "name": "stdin",
     "output_type": "stream",
     "text": [
      "ipdb>  s\n"
     ]
    },
    {
     "name": "stdout",
     "output_type": "stream",
     "text": [
      "> \u001b[0;32m<string>\u001b[0m(1)\u001b[0;36m<module>\u001b[0;34m()\u001b[0m\n",
      "\n"
     ]
    },
    {
     "name": "stdin",
     "output_type": "stream",
     "text": [
      "ipdb>  s\n"
     ]
    },
    {
     "name": "stdout",
     "output_type": "stream",
     "text": [
      "--Call--\n",
      "> \u001b[0;32m/Users/tmorton/repositories/CCL/pyccl/halos/hmfunc.py\u001b[0m(123)\u001b[0;36mget_mass_function\u001b[0;34m()\u001b[0m\n",
      "\u001b[0;32m    121 \u001b[0;31m            \u001b[0;32mreturn\u001b[0m \u001b[0mdelta\u001b[0m \u001b[0;34m*\u001b[0m \u001b[0mom_this\u001b[0m \u001b[0;34m/\u001b[0m \u001b[0mom_matt\u001b[0m\u001b[0;34m\u001b[0m\u001b[0;34m\u001b[0m\u001b[0m\n",
      "\u001b[0m\u001b[0;32m    122 \u001b[0;31m\u001b[0;34m\u001b[0m\u001b[0m\n",
      "\u001b[0m\u001b[0;32m--> 123 \u001b[0;31m    \u001b[0;32mdef\u001b[0m \u001b[0mget_mass_function\u001b[0m\u001b[0;34m(\u001b[0m\u001b[0mself\u001b[0m\u001b[0;34m,\u001b[0m \u001b[0mcosmo\u001b[0m\u001b[0;34m,\u001b[0m \u001b[0mM\u001b[0m\u001b[0;34m,\u001b[0m \u001b[0ma\u001b[0m\u001b[0;34m,\u001b[0m \u001b[0mmdef_other\u001b[0m\u001b[0;34m=\u001b[0m\u001b[0;32mNone\u001b[0m\u001b[0;34m)\u001b[0m\u001b[0;34m:\u001b[0m\u001b[0;34m\u001b[0m\u001b[0;34m\u001b[0m\u001b[0m\n",
      "\u001b[0m\u001b[0;32m    124 \u001b[0;31m        \"\"\" Returns the mass function for input parameters.\n",
      "\u001b[0m\u001b[0;32m    125 \u001b[0;31m\u001b[0;34m\u001b[0m\u001b[0m\n",
      "\u001b[0m\n"
     ]
    },
    {
     "name": "stdin",
     "output_type": "stream",
     "text": [
      "ipdb>  n\n"
     ]
    },
    {
     "name": "stdout",
     "output_type": "stream",
     "text": [
      "> \u001b[0;32m/Users/tmorton/repositories/CCL/pyccl/halos/hmfunc.py\u001b[0m(137)\u001b[0;36mget_mass_function\u001b[0;34m()\u001b[0m\n",
      "\u001b[0;32m    135 \u001b[0;31m                \u001b[0;34m:\u001b[0m\u001b[0mmath\u001b[0m\u001b[0;34m:\u001b[0m\u001b[0;31m`\u001b[0m\u001b[0mdn\u001b[0m\u001b[0;34m/\u001b[0m\u001b[0md\u001b[0m\u001b[0;31m\\\u001b[0m\u001b[0;31m\\\u001b[0m\u001b[0mlog_\u001b[0m\u001b[0;34m{\u001b[0m\u001b[0;36m10\u001b[0m\u001b[0;34m}\u001b[0m\u001b[0mM\u001b[0m\u001b[0;31m`\u001b[0m \u001b[0;32min\u001b[0m \u001b[0munits\u001b[0m \u001b[0mof\u001b[0m \u001b[0mMpc\u001b[0m\u001b[0;34m^\u001b[0m\u001b[0;34m-\u001b[0m\u001b[0;36m3\u001b[0m \u001b[0;34m(\u001b[0m\u001b[0mcomoving\u001b[0m\u001b[0;34m)\u001b[0m\u001b[0;34m.\u001b[0m\u001b[0;34m\u001b[0m\u001b[0;34m\u001b[0m\u001b[0m\n",
      "\u001b[0m\u001b[0;32m    136 \u001b[0;31m        \"\"\"\n",
      "\u001b[0m\u001b[0;32m--> 137 \u001b[0;31m        \u001b[0mM_use\u001b[0m \u001b[0;34m=\u001b[0m \u001b[0mnp\u001b[0m\u001b[0;34m.\u001b[0m\u001b[0matleast_1d\u001b[0m\u001b[0;34m(\u001b[0m\u001b[0mM\u001b[0m\u001b[0;34m)\u001b[0m\u001b[0;34m\u001b[0m\u001b[0;34m\u001b[0m\u001b[0m\n",
      "\u001b[0m\u001b[0;32m    138 \u001b[0;31m        logM = self._get_consistent_mass(cosmo, M_use,\n",
      "\u001b[0m\u001b[0;32m    139 \u001b[0;31m                                         a, mdef_other)\n",
      "\u001b[0m\n"
     ]
    },
    {
     "name": "stdin",
     "output_type": "stream",
     "text": [
      "ipdb>  \n"
     ]
    },
    {
     "name": "stdout",
     "output_type": "stream",
     "text": [
      "> \u001b[0;32m/Users/tmorton/repositories/CCL/pyccl/halos/hmfunc.py\u001b[0m(138)\u001b[0;36mget_mass_function\u001b[0;34m()\u001b[0m\n",
      "\u001b[0;32m    136 \u001b[0;31m        \"\"\"\n",
      "\u001b[0m\u001b[0;32m    137 \u001b[0;31m        \u001b[0mM_use\u001b[0m \u001b[0;34m=\u001b[0m \u001b[0mnp\u001b[0m\u001b[0;34m.\u001b[0m\u001b[0matleast_1d\u001b[0m\u001b[0;34m(\u001b[0m\u001b[0mM\u001b[0m\u001b[0;34m)\u001b[0m\u001b[0;34m\u001b[0m\u001b[0;34m\u001b[0m\u001b[0m\n",
      "\u001b[0m\u001b[0;32m--> 138 \u001b[0;31m        logM = self._get_consistent_mass(cosmo, M_use,\n",
      "\u001b[0m\u001b[0;32m    139 \u001b[0;31m                                         a, mdef_other)\n",
      "\u001b[0m\u001b[0;32m    140 \u001b[0;31m\u001b[0;34m\u001b[0m\u001b[0m\n",
      "\u001b[0m\n"
     ]
    },
    {
     "name": "stdin",
     "output_type": "stream",
     "text": [
      "ipdb>  \n"
     ]
    },
    {
     "name": "stdout",
     "output_type": "stream",
     "text": [
      "> \u001b[0;32m/Users/tmorton/repositories/CCL/pyccl/halos/hmfunc.py\u001b[0m(139)\u001b[0;36mget_mass_function\u001b[0;34m()\u001b[0m\n",
      "\u001b[0;32m    137 \u001b[0;31m        \u001b[0mM_use\u001b[0m \u001b[0;34m=\u001b[0m \u001b[0mnp\u001b[0m\u001b[0;34m.\u001b[0m\u001b[0matleast_1d\u001b[0m\u001b[0;34m(\u001b[0m\u001b[0mM\u001b[0m\u001b[0;34m)\u001b[0m\u001b[0;34m\u001b[0m\u001b[0;34m\u001b[0m\u001b[0m\n",
      "\u001b[0m\u001b[0;32m    138 \u001b[0;31m        logM = self._get_consistent_mass(cosmo, M_use,\n",
      "\u001b[0m\u001b[0;32m--> 139 \u001b[0;31m                                         a, mdef_other)\n",
      "\u001b[0m\u001b[0;32m    140 \u001b[0;31m\u001b[0;34m\u001b[0m\u001b[0m\n",
      "\u001b[0m\u001b[0;32m    141 \u001b[0;31m        \u001b[0;31m# sigma(M)\u001b[0m\u001b[0;34m\u001b[0m\u001b[0;34m\u001b[0m\u001b[0;34m\u001b[0m\u001b[0m\n",
      "\u001b[0m\n"
     ]
    },
    {
     "name": "stdin",
     "output_type": "stream",
     "text": [
      "ipdb>  \n"
     ]
    },
    {
     "name": "stdout",
     "output_type": "stream",
     "text": [
      "> \u001b[0;32m/Users/tmorton/repositories/CCL/pyccl/halos/hmfunc.py\u001b[0m(138)\u001b[0;36mget_mass_function\u001b[0;34m()\u001b[0m\n",
      "\u001b[0;32m    136 \u001b[0;31m        \"\"\"\n",
      "\u001b[0m\u001b[0;32m    137 \u001b[0;31m        \u001b[0mM_use\u001b[0m \u001b[0;34m=\u001b[0m \u001b[0mnp\u001b[0m\u001b[0;34m.\u001b[0m\u001b[0matleast_1d\u001b[0m\u001b[0;34m(\u001b[0m\u001b[0mM\u001b[0m\u001b[0;34m)\u001b[0m\u001b[0;34m\u001b[0m\u001b[0;34m\u001b[0m\u001b[0m\n",
      "\u001b[0m\u001b[0;32m--> 138 \u001b[0;31m        logM = self._get_consistent_mass(cosmo, M_use,\n",
      "\u001b[0m\u001b[0;32m    139 \u001b[0;31m                                         a, mdef_other)\n",
      "\u001b[0m\u001b[0;32m    140 \u001b[0;31m\u001b[0;34m\u001b[0m\u001b[0m\n",
      "\u001b[0m\n"
     ]
    },
    {
     "name": "stdin",
     "output_type": "stream",
     "text": [
      "ipdb>  \n"
     ]
    },
    {
     "name": "stdout",
     "output_type": "stream",
     "text": [
      "> \u001b[0;32m/Users/tmorton/repositories/CCL/pyccl/halos/hmfunc.py\u001b[0m(142)\u001b[0;36mget_mass_function\u001b[0;34m()\u001b[0m\n",
      "\u001b[0;32m    140 \u001b[0;31m\u001b[0;34m\u001b[0m\u001b[0m\n",
      "\u001b[0m\u001b[0;32m    141 \u001b[0;31m        \u001b[0;31m# sigma(M)\u001b[0m\u001b[0;34m\u001b[0m\u001b[0;34m\u001b[0m\u001b[0;34m\u001b[0m\u001b[0m\n",
      "\u001b[0m\u001b[0;32m--> 142 \u001b[0;31m        \u001b[0mstatus\u001b[0m \u001b[0;34m=\u001b[0m \u001b[0;36m0\u001b[0m\u001b[0;34m\u001b[0m\u001b[0;34m\u001b[0m\u001b[0m\n",
      "\u001b[0m\u001b[0;32m    143 \u001b[0;31m        sigM, status = lib.sigM_vec(cosmo.cosmo, a, logM,\n",
      "\u001b[0m\u001b[0;32m    144 \u001b[0;31m                                    len(logM), status)\n",
      "\u001b[0m\n"
     ]
    },
    {
     "name": "stdin",
     "output_type": "stream",
     "text": [
      "ipdb>  logM\n"
     ]
    },
    {
     "name": "stdout",
     "output_type": "stream",
     "text": [
      "array([ 6.        ,  6.06060606,  6.12121212,  6.18181818,  6.24242424,\n",
      "        6.3030303 ,  6.36363636,  6.42424242,  6.48484848,  6.54545455,\n",
      "        6.60606061,  6.66666667,  6.72727273,  6.78787879,  6.84848485,\n",
      "        6.90909091,  6.96969697,  7.03030303,  7.09090909,  7.15151515,\n",
      "        7.21212121,  7.27272727,  7.33333333,  7.39393939,  7.45454545,\n",
      "        7.51515152,  7.57575758,  7.63636364,  7.6969697 ,  7.75757576,\n",
      "        7.81818182,  7.87878788,  7.93939394,  8.        ,  8.06060606,\n",
      "        8.12121212,  8.18181818,  8.24242424,  8.3030303 ,  8.36363636,\n",
      "        8.42424242,  8.48484848,  8.54545455,  8.60606061,  8.66666667,\n",
      "        8.72727273,  8.78787879,  8.84848485,  8.90909091,  8.96969697,\n",
      "        9.03030303,  9.09090909,  9.15151515,  9.21212121,  9.27272727,\n",
      "        9.33333333,  9.39393939,  9.45454545,  9.51515152,  9.57575758,\n",
      "        9.63636364,  9.6969697 ,  9.75757576,  9.81818182,  9.87878788,\n",
      "        9.93939394, 10.        , 10.06060606, 10.12121212, 10.18181818,\n",
      "       10.24242424, 10.3030303 , 10.36363636, 10.42424242, 10.48484848,\n",
      "       10.54545455, 10.60606061, 10.66666667, 10.72727273, 10.78787879,\n",
      "       10.84848485, 10.90909091, 10.96969697, 11.03030303, 11.09090909,\n",
      "       11.15151515, 11.21212121, 11.27272727, 11.33333333, 11.39393939,\n",
      "       11.45454545, 11.51515152, 11.57575758, 11.63636364, 11.6969697 ,\n",
      "       11.75757576, 11.81818182, 11.87878788, 11.93939394, 12.        ])\n"
     ]
    },
    {
     "name": "stdin",
     "output_type": "stream",
     "text": [
      "ipdb>  n\n"
     ]
    },
    {
     "name": "stdout",
     "output_type": "stream",
     "text": [
      "> \u001b[0;32m/Users/tmorton/repositories/CCL/pyccl/halos/hmfunc.py\u001b[0m(143)\u001b[0;36mget_mass_function\u001b[0;34m()\u001b[0m\n",
      "\u001b[0;32m    141 \u001b[0;31m        \u001b[0;31m# sigma(M)\u001b[0m\u001b[0;34m\u001b[0m\u001b[0;34m\u001b[0m\u001b[0;34m\u001b[0m\u001b[0m\n",
      "\u001b[0m\u001b[0;32m    142 \u001b[0;31m        \u001b[0mstatus\u001b[0m \u001b[0;34m=\u001b[0m \u001b[0;36m0\u001b[0m\u001b[0;34m\u001b[0m\u001b[0;34m\u001b[0m\u001b[0m\n",
      "\u001b[0m\u001b[0;32m--> 143 \u001b[0;31m        sigM, status = lib.sigM_vec(cosmo.cosmo, a, logM,\n",
      "\u001b[0m\u001b[0;32m    144 \u001b[0;31m                                    len(logM), status)\n",
      "\u001b[0m\u001b[0;32m    145 \u001b[0;31m        \u001b[0;32mimport\u001b[0m \u001b[0mpdb\u001b[0m\u001b[0;34m\u001b[0m\u001b[0;34m\u001b[0m\u001b[0m\n",
      "\u001b[0m\n"
     ]
    },
    {
     "name": "stdin",
     "output_type": "stream",
     "text": [
      "ipdb>  \n"
     ]
    },
    {
     "name": "stdout",
     "output_type": "stream",
     "text": [
      "> \u001b[0;32m/Users/tmorton/repositories/CCL/pyccl/halos/hmfunc.py\u001b[0m(144)\u001b[0;36mget_mass_function\u001b[0;34m()\u001b[0m\n",
      "\u001b[0;32m    142 \u001b[0;31m        \u001b[0mstatus\u001b[0m \u001b[0;34m=\u001b[0m \u001b[0;36m0\u001b[0m\u001b[0;34m\u001b[0m\u001b[0;34m\u001b[0m\u001b[0m\n",
      "\u001b[0m\u001b[0;32m    143 \u001b[0;31m        sigM, status = lib.sigM_vec(cosmo.cosmo, a, logM,\n",
      "\u001b[0m\u001b[0;32m--> 144 \u001b[0;31m                                    len(logM), status)\n",
      "\u001b[0m\u001b[0;32m    145 \u001b[0;31m        \u001b[0;32mimport\u001b[0m \u001b[0mpdb\u001b[0m\u001b[0;34m\u001b[0m\u001b[0;34m\u001b[0m\u001b[0m\n",
      "\u001b[0m\u001b[0;32m    146 \u001b[0;31m        \u001b[0;31m# pdb.set_trace()\u001b[0m\u001b[0;34m\u001b[0m\u001b[0;34m\u001b[0m\u001b[0;34m\u001b[0m\u001b[0m\n",
      "\u001b[0m\n"
     ]
    },
    {
     "name": "stdin",
     "output_type": "stream",
     "text": [
      "ipdb>  \n"
     ]
    },
    {
     "name": "stdout",
     "output_type": "stream",
     "text": [
      "> \u001b[0;32m/Users/tmorton/repositories/CCL/pyccl/halos/hmfunc.py\u001b[0m(143)\u001b[0;36mget_mass_function\u001b[0;34m()\u001b[0m\n",
      "\u001b[0;32m    141 \u001b[0;31m        \u001b[0;31m# sigma(M)\u001b[0m\u001b[0;34m\u001b[0m\u001b[0;34m\u001b[0m\u001b[0;34m\u001b[0m\u001b[0m\n",
      "\u001b[0m\u001b[0;32m    142 \u001b[0;31m        \u001b[0mstatus\u001b[0m \u001b[0;34m=\u001b[0m \u001b[0;36m0\u001b[0m\u001b[0;34m\u001b[0m\u001b[0;34m\u001b[0m\u001b[0m\n",
      "\u001b[0m\u001b[0;32m--> 143 \u001b[0;31m        sigM, status = lib.sigM_vec(cosmo.cosmo, a, logM,\n",
      "\u001b[0m\u001b[0;32m    144 \u001b[0;31m                                    len(logM), status)\n",
      "\u001b[0m\u001b[0;32m    145 \u001b[0;31m        \u001b[0;32mimport\u001b[0m \u001b[0mpdb\u001b[0m\u001b[0;34m\u001b[0m\u001b[0;34m\u001b[0m\u001b[0m\n",
      "\u001b[0m\n"
     ]
    },
    {
     "name": "stdin",
     "output_type": "stream",
     "text": [
      "ipdb>  sigM\n"
     ]
    },
    {
     "name": "stdout",
     "output_type": "stream",
     "text": [
      "*** NameError: name 'sigM' is not defined\n"
     ]
    },
    {
     "name": "stdin",
     "output_type": "stream",
     "text": [
      "ipdb>  n\n"
     ]
    },
    {
     "name": "stdout",
     "output_type": "stream",
     "text": [
      "> \u001b[0;32m/Users/tmorton/repositories/CCL/pyccl/halos/hmfunc.py\u001b[0m(145)\u001b[0;36mget_mass_function\u001b[0;34m()\u001b[0m\n",
      "\u001b[0;32m    143 \u001b[0;31m        sigM, status = lib.sigM_vec(cosmo.cosmo, a, logM,\n",
      "\u001b[0m\u001b[0;32m    144 \u001b[0;31m                                    len(logM), status)\n",
      "\u001b[0m\u001b[0;32m--> 145 \u001b[0;31m        \u001b[0;32mimport\u001b[0m \u001b[0mpdb\u001b[0m\u001b[0;34m\u001b[0m\u001b[0;34m\u001b[0m\u001b[0m\n",
      "\u001b[0m\u001b[0;32m    146 \u001b[0;31m        \u001b[0;31m# pdb.set_trace()\u001b[0m\u001b[0;34m\u001b[0m\u001b[0;34m\u001b[0m\u001b[0;34m\u001b[0m\u001b[0m\n",
      "\u001b[0m\u001b[0;32m    147 \u001b[0;31m        \u001b[0mcheck\u001b[0m\u001b[0;34m(\u001b[0m\u001b[0mstatus\u001b[0m\u001b[0;34m)\u001b[0m\u001b[0;34m\u001b[0m\u001b[0;34m\u001b[0m\u001b[0m\n",
      "\u001b[0m\n"
     ]
    },
    {
     "name": "stdin",
     "output_type": "stream",
     "text": [
      "ipdb>  sigM\n"
     ]
    },
    {
     "name": "stdout",
     "output_type": "stream",
     "text": [
      "array([8.35759317, 8.27627837, 8.19551554, 8.11529859, 8.03562149,\n",
      "       7.95647821, 7.87786274, 7.7997691 , 7.72219133, 7.64512349,\n",
      "       7.56855966, 7.49249395, 7.41692047, 7.34183337, 7.26722681,\n",
      "       7.19309495, 7.11943201, 7.0462322 , 6.97348975, 6.90119892,\n",
      "       6.82935399, 6.75794925, 6.68697903, 6.61643765, 6.54631949,\n",
      "       6.47661895, 6.40733042, 6.33844837, 6.26996728, 6.20188166,\n",
      "       6.13418606, 6.06687509, 5.99994338, 5.93338563, 5.8671966 ,\n",
      "       5.8013711 , 5.73590403, 5.67079036, 5.60602513, 5.54160351,\n",
      "       5.47752076, 5.41377225, 5.35035351, 5.28726019, 5.2244881 ,\n",
      "       5.16203326, 5.09989183, 5.03806021, 4.97653503, 4.91531315,\n",
      "       4.8543917 , 4.79376808, 4.73344   , 4.67340549, 4.61366291,\n",
      "       4.55421097, 4.49504872, 4.43617559, 4.3775914 , 4.31929631,\n",
      "       4.26129086, 4.20357595, 4.14615281, 4.089023  , 4.03218835,\n",
      "       3.97565096, 3.91941313, 3.86347735, 3.80784621, 3.75252243,\n",
      "       3.69750875, 3.64280795, 3.5884228 , 3.53435605, 3.48061045,\n",
      "       3.42718874, 3.37409364, 3.32132792, 3.26889436, 3.2167958 ,\n",
      "       3.16503514, 3.11361531, 3.06253929, 3.01181008, 2.96143069,\n",
      "       2.91140415, 2.86173349, 2.81242176, 2.76347201, 2.71488734,\n",
      "       2.66667086, 2.61882571, 2.57135501, 2.52426195, 2.47754967,\n",
      "       2.43122137, 2.38528023, 2.33972945, 2.29457225, 2.24981183])\n"
     ]
    },
    {
     "name": "stdin",
     "output_type": "stream",
     "text": [
      "ipdb>  n\n"
     ]
    },
    {
     "name": "stdout",
     "output_type": "stream",
     "text": [
      "> \u001b[0;32m/Users/tmorton/repositories/CCL/pyccl/halos/hmfunc.py\u001b[0m(147)\u001b[0;36mget_mass_function\u001b[0;34m()\u001b[0m\n",
      "\u001b[0;32m    145 \u001b[0;31m        \u001b[0;32mimport\u001b[0m \u001b[0mpdb\u001b[0m\u001b[0;34m\u001b[0m\u001b[0;34m\u001b[0m\u001b[0m\n",
      "\u001b[0m\u001b[0;32m    146 \u001b[0;31m        \u001b[0;31m# pdb.set_trace()\u001b[0m\u001b[0;34m\u001b[0m\u001b[0;34m\u001b[0m\u001b[0;34m\u001b[0m\u001b[0m\n",
      "\u001b[0m\u001b[0;32m--> 147 \u001b[0;31m        \u001b[0mcheck\u001b[0m\u001b[0;34m(\u001b[0m\u001b[0mstatus\u001b[0m\u001b[0;34m)\u001b[0m\u001b[0;34m\u001b[0m\u001b[0;34m\u001b[0m\u001b[0m\n",
      "\u001b[0m\u001b[0;32m    148 \u001b[0;31m        \u001b[0;31m# dlogsigma(M)/dlog10(M)\u001b[0m\u001b[0;34m\u001b[0m\u001b[0;34m\u001b[0m\u001b[0;34m\u001b[0m\u001b[0m\n",
      "\u001b[0m\u001b[0;32m    149 \u001b[0;31m        dlns_dlogM, status = lib.dlnsigM_dlogM_vec(cosmo.cosmo, logM,\n",
      "\u001b[0m\n"
     ]
    },
    {
     "name": "stdin",
     "output_type": "stream",
     "text": [
      "ipdb>  \n"
     ]
    },
    {
     "name": "stdout",
     "output_type": "stream",
     "text": [
      "> \u001b[0;32m/Users/tmorton/repositories/CCL/pyccl/halos/hmfunc.py\u001b[0m(149)\u001b[0;36mget_mass_function\u001b[0;34m()\u001b[0m\n",
      "\u001b[0;32m    147 \u001b[0;31m        \u001b[0mcheck\u001b[0m\u001b[0;34m(\u001b[0m\u001b[0mstatus\u001b[0m\u001b[0;34m)\u001b[0m\u001b[0;34m\u001b[0m\u001b[0;34m\u001b[0m\u001b[0m\n",
      "\u001b[0m\u001b[0;32m    148 \u001b[0;31m        \u001b[0;31m# dlogsigma(M)/dlog10(M)\u001b[0m\u001b[0;34m\u001b[0m\u001b[0;34m\u001b[0m\u001b[0;34m\u001b[0m\u001b[0m\n",
      "\u001b[0m\u001b[0;32m--> 149 \u001b[0;31m        dlns_dlogM, status = lib.dlnsigM_dlogM_vec(cosmo.cosmo, logM,\n",
      "\u001b[0m\u001b[0;32m    150 \u001b[0;31m                                                   len(logM), status)\n",
      "\u001b[0m\u001b[0;32m    151 \u001b[0;31m        \u001b[0mcheck\u001b[0m\u001b[0;34m(\u001b[0m\u001b[0mstatus\u001b[0m\u001b[0;34m)\u001b[0m\u001b[0;34m\u001b[0m\u001b[0;34m\u001b[0m\u001b[0m\n",
      "\u001b[0m\n"
     ]
    },
    {
     "name": "stdin",
     "output_type": "stream",
     "text": [
      "ipdb>  \n"
     ]
    },
    {
     "name": "stdout",
     "output_type": "stream",
     "text": [
      "> \u001b[0;32m/Users/tmorton/repositories/CCL/pyccl/halos/hmfunc.py\u001b[0m(150)\u001b[0;36mget_mass_function\u001b[0;34m()\u001b[0m\n",
      "\u001b[0;32m    148 \u001b[0;31m        \u001b[0;31m# dlogsigma(M)/dlog10(M)\u001b[0m\u001b[0;34m\u001b[0m\u001b[0;34m\u001b[0m\u001b[0;34m\u001b[0m\u001b[0m\n",
      "\u001b[0m\u001b[0;32m    149 \u001b[0;31m        dlns_dlogM, status = lib.dlnsigM_dlogM_vec(cosmo.cosmo, logM,\n",
      "\u001b[0m\u001b[0;32m--> 150 \u001b[0;31m                                                   len(logM), status)\n",
      "\u001b[0m\u001b[0;32m    151 \u001b[0;31m        \u001b[0mcheck\u001b[0m\u001b[0;34m(\u001b[0m\u001b[0mstatus\u001b[0m\u001b[0;34m)\u001b[0m\u001b[0;34m\u001b[0m\u001b[0;34m\u001b[0m\u001b[0m\n",
      "\u001b[0m\u001b[0;32m    152 \u001b[0;31m\u001b[0;34m\u001b[0m\u001b[0m\n",
      "\u001b[0m\n"
     ]
    },
    {
     "name": "stdin",
     "output_type": "stream",
     "text": [
      "ipdb>  \n"
     ]
    },
    {
     "name": "stdout",
     "output_type": "stream",
     "text": [
      "> \u001b[0;32m/Users/tmorton/repositories/CCL/pyccl/halos/hmfunc.py\u001b[0m(149)\u001b[0;36mget_mass_function\u001b[0;34m()\u001b[0m\n",
      "\u001b[0;32m    147 \u001b[0;31m        \u001b[0mcheck\u001b[0m\u001b[0;34m(\u001b[0m\u001b[0mstatus\u001b[0m\u001b[0;34m)\u001b[0m\u001b[0;34m\u001b[0m\u001b[0;34m\u001b[0m\u001b[0m\n",
      "\u001b[0m\u001b[0;32m    148 \u001b[0;31m        \u001b[0;31m# dlogsigma(M)/dlog10(M)\u001b[0m\u001b[0;34m\u001b[0m\u001b[0;34m\u001b[0m\u001b[0;34m\u001b[0m\u001b[0m\n",
      "\u001b[0m\u001b[0;32m--> 149 \u001b[0;31m        dlns_dlogM, status = lib.dlnsigM_dlogM_vec(cosmo.cosmo, logM,\n",
      "\u001b[0m\u001b[0;32m    150 \u001b[0;31m                                                   len(logM), status)\n",
      "\u001b[0m\u001b[0;32m    151 \u001b[0;31m        \u001b[0mcheck\u001b[0m\u001b[0;34m(\u001b[0m\u001b[0mstatus\u001b[0m\u001b[0;34m)\u001b[0m\u001b[0;34m\u001b[0m\u001b[0;34m\u001b[0m\u001b[0m\n",
      "\u001b[0m\n"
     ]
    },
    {
     "name": "stdin",
     "output_type": "stream",
     "text": [
      "ipdb>  \n"
     ]
    },
    {
     "name": "stdout",
     "output_type": "stream",
     "text": [
      "> \u001b[0;32m/Users/tmorton/repositories/CCL/pyccl/halos/hmfunc.py\u001b[0m(151)\u001b[0;36mget_mass_function\u001b[0;34m()\u001b[0m\n",
      "\u001b[0;32m    149 \u001b[0;31m        dlns_dlogM, status = lib.dlnsigM_dlogM_vec(cosmo.cosmo, logM,\n",
      "\u001b[0m\u001b[0;32m    150 \u001b[0;31m                                                   len(logM), status)\n",
      "\u001b[0m\u001b[0;32m--> 151 \u001b[0;31m        \u001b[0mcheck\u001b[0m\u001b[0;34m(\u001b[0m\u001b[0mstatus\u001b[0m\u001b[0;34m)\u001b[0m\u001b[0;34m\u001b[0m\u001b[0;34m\u001b[0m\u001b[0m\n",
      "\u001b[0m\u001b[0;32m    152 \u001b[0;31m\u001b[0;34m\u001b[0m\u001b[0m\n",
      "\u001b[0m\u001b[0;32m    153 \u001b[0;31m        rho = (lib.cvar.constants.RHO_CRITICAL *\n",
      "\u001b[0m\n"
     ]
    },
    {
     "name": "stdin",
     "output_type": "stream",
     "text": [
      "ipdb>  \n"
     ]
    },
    {
     "name": "stdout",
     "output_type": "stream",
     "text": [
      "> \u001b[0;32m/Users/tmorton/repositories/CCL/pyccl/halos/hmfunc.py\u001b[0m(153)\u001b[0;36mget_mass_function\u001b[0;34m()\u001b[0m\n",
      "\u001b[0;32m    151 \u001b[0;31m        \u001b[0mcheck\u001b[0m\u001b[0;34m(\u001b[0m\u001b[0mstatus\u001b[0m\u001b[0;34m)\u001b[0m\u001b[0;34m\u001b[0m\u001b[0;34m\u001b[0m\u001b[0m\n",
      "\u001b[0m\u001b[0;32m    152 \u001b[0;31m\u001b[0;34m\u001b[0m\u001b[0m\n",
      "\u001b[0m\u001b[0;32m--> 153 \u001b[0;31m        rho = (lib.cvar.constants.RHO_CRITICAL *\n",
      "\u001b[0m\u001b[0;32m    154 \u001b[0;31m               cosmo['Omega_m'] * cosmo['h']**2)\n",
      "\u001b[0m\u001b[0;32m    155 \u001b[0;31m        \u001b[0mf\u001b[0m \u001b[0;34m=\u001b[0m \u001b[0mself\u001b[0m\u001b[0;34m.\u001b[0m\u001b[0m_get_fsigma\u001b[0m\u001b[0;34m(\u001b[0m\u001b[0mcosmo\u001b[0m\u001b[0;34m,\u001b[0m \u001b[0msigM\u001b[0m\u001b[0;34m,\u001b[0m \u001b[0ma\u001b[0m\u001b[0;34m,\u001b[0m \u001b[0;36m2.302585092994046\u001b[0m \u001b[0;34m*\u001b[0m \u001b[0mlogM\u001b[0m\u001b[0;34m)\u001b[0m\u001b[0;34m\u001b[0m\u001b[0;34m\u001b[0m\u001b[0m\n",
      "\u001b[0m\n"
     ]
    },
    {
     "name": "stdin",
     "output_type": "stream",
     "text": [
      "ipdb>  \n"
     ]
    },
    {
     "name": "stdout",
     "output_type": "stream",
     "text": [
      "> \u001b[0;32m/Users/tmorton/repositories/CCL/pyccl/halos/hmfunc.py\u001b[0m(154)\u001b[0;36mget_mass_function\u001b[0;34m()\u001b[0m\n",
      "\u001b[0;32m    152 \u001b[0;31m\u001b[0;34m\u001b[0m\u001b[0m\n",
      "\u001b[0m\u001b[0;32m    153 \u001b[0;31m        rho = (lib.cvar.constants.RHO_CRITICAL *\n",
      "\u001b[0m\u001b[0;32m--> 154 \u001b[0;31m               cosmo['Omega_m'] * cosmo['h']**2)\n",
      "\u001b[0m\u001b[0;32m    155 \u001b[0;31m        \u001b[0mf\u001b[0m \u001b[0;34m=\u001b[0m \u001b[0mself\u001b[0m\u001b[0;34m.\u001b[0m\u001b[0m_get_fsigma\u001b[0m\u001b[0;34m(\u001b[0m\u001b[0mcosmo\u001b[0m\u001b[0;34m,\u001b[0m \u001b[0msigM\u001b[0m\u001b[0;34m,\u001b[0m \u001b[0ma\u001b[0m\u001b[0;34m,\u001b[0m \u001b[0;36m2.302585092994046\u001b[0m \u001b[0;34m*\u001b[0m \u001b[0mlogM\u001b[0m\u001b[0;34m)\u001b[0m\u001b[0;34m\u001b[0m\u001b[0;34m\u001b[0m\u001b[0m\n",
      "\u001b[0m\u001b[0;32m    156 \u001b[0;31m        \u001b[0mmf\u001b[0m \u001b[0;34m=\u001b[0m \u001b[0mf\u001b[0m \u001b[0;34m*\u001b[0m \u001b[0mrho\u001b[0m \u001b[0;34m*\u001b[0m \u001b[0mdlns_dlogM\u001b[0m \u001b[0;34m/\u001b[0m \u001b[0mM_use\u001b[0m\u001b[0;34m\u001b[0m\u001b[0;34m\u001b[0m\u001b[0m\n",
      "\u001b[0m\n"
     ]
    },
    {
     "name": "stdin",
     "output_type": "stream",
     "text": [
      "ipdb>  \n"
     ]
    },
    {
     "name": "stdout",
     "output_type": "stream",
     "text": [
      "> \u001b[0;32m/Users/tmorton/repositories/CCL/pyccl/halos/hmfunc.py\u001b[0m(153)\u001b[0;36mget_mass_function\u001b[0;34m()\u001b[0m\n",
      "\u001b[0;32m    151 \u001b[0;31m        \u001b[0mcheck\u001b[0m\u001b[0;34m(\u001b[0m\u001b[0mstatus\u001b[0m\u001b[0;34m)\u001b[0m\u001b[0;34m\u001b[0m\u001b[0;34m\u001b[0m\u001b[0m\n",
      "\u001b[0m\u001b[0;32m    152 \u001b[0;31m\u001b[0;34m\u001b[0m\u001b[0m\n",
      "\u001b[0m\u001b[0;32m--> 153 \u001b[0;31m        rho = (lib.cvar.constants.RHO_CRITICAL *\n",
      "\u001b[0m\u001b[0;32m    154 \u001b[0;31m               cosmo['Omega_m'] * cosmo['h']**2)\n",
      "\u001b[0m\u001b[0;32m    155 \u001b[0;31m        \u001b[0mf\u001b[0m \u001b[0;34m=\u001b[0m \u001b[0mself\u001b[0m\u001b[0;34m.\u001b[0m\u001b[0m_get_fsigma\u001b[0m\u001b[0;34m(\u001b[0m\u001b[0mcosmo\u001b[0m\u001b[0;34m,\u001b[0m \u001b[0msigM\u001b[0m\u001b[0;34m,\u001b[0m \u001b[0ma\u001b[0m\u001b[0;34m,\u001b[0m \u001b[0;36m2.302585092994046\u001b[0m \u001b[0;34m*\u001b[0m \u001b[0mlogM\u001b[0m\u001b[0;34m)\u001b[0m\u001b[0;34m\u001b[0m\u001b[0;34m\u001b[0m\u001b[0m\n",
      "\u001b[0m\n"
     ]
    },
    {
     "name": "stdin",
     "output_type": "stream",
     "text": [
      "ipdb>  \n"
     ]
    },
    {
     "name": "stdout",
     "output_type": "stream",
     "text": [
      "> \u001b[0;32m/Users/tmorton/repositories/CCL/pyccl/halos/hmfunc.py\u001b[0m(154)\u001b[0;36mget_mass_function\u001b[0;34m()\u001b[0m\n",
      "\u001b[0;32m    152 \u001b[0;31m\u001b[0;34m\u001b[0m\u001b[0m\n",
      "\u001b[0m\u001b[0;32m    153 \u001b[0;31m        rho = (lib.cvar.constants.RHO_CRITICAL *\n",
      "\u001b[0m\u001b[0;32m--> 154 \u001b[0;31m               cosmo['Omega_m'] * cosmo['h']**2)\n",
      "\u001b[0m\u001b[0;32m    155 \u001b[0;31m        \u001b[0mf\u001b[0m \u001b[0;34m=\u001b[0m \u001b[0mself\u001b[0m\u001b[0;34m.\u001b[0m\u001b[0m_get_fsigma\u001b[0m\u001b[0;34m(\u001b[0m\u001b[0mcosmo\u001b[0m\u001b[0;34m,\u001b[0m \u001b[0msigM\u001b[0m\u001b[0;34m,\u001b[0m \u001b[0ma\u001b[0m\u001b[0;34m,\u001b[0m \u001b[0;36m2.302585092994046\u001b[0m \u001b[0;34m*\u001b[0m \u001b[0mlogM\u001b[0m\u001b[0;34m)\u001b[0m\u001b[0;34m\u001b[0m\u001b[0;34m\u001b[0m\u001b[0m\n",
      "\u001b[0m\u001b[0;32m    156 \u001b[0;31m        \u001b[0mmf\u001b[0m \u001b[0;34m=\u001b[0m \u001b[0mf\u001b[0m \u001b[0;34m*\u001b[0m \u001b[0mrho\u001b[0m \u001b[0;34m*\u001b[0m \u001b[0mdlns_dlogM\u001b[0m \u001b[0;34m/\u001b[0m \u001b[0mM_use\u001b[0m\u001b[0;34m\u001b[0m\u001b[0;34m\u001b[0m\u001b[0m\n",
      "\u001b[0m\n"
     ]
    },
    {
     "name": "stdin",
     "output_type": "stream",
     "text": [
      "ipdb>  \n"
     ]
    },
    {
     "name": "stdout",
     "output_type": "stream",
     "text": [
      "> \u001b[0;32m/Users/tmorton/repositories/CCL/pyccl/halos/hmfunc.py\u001b[0m(153)\u001b[0;36mget_mass_function\u001b[0;34m()\u001b[0m\n",
      "\u001b[0;32m    151 \u001b[0;31m        \u001b[0mcheck\u001b[0m\u001b[0;34m(\u001b[0m\u001b[0mstatus\u001b[0m\u001b[0;34m)\u001b[0m\u001b[0;34m\u001b[0m\u001b[0;34m\u001b[0m\u001b[0m\n",
      "\u001b[0m\u001b[0;32m    152 \u001b[0;31m\u001b[0;34m\u001b[0m\u001b[0m\n",
      "\u001b[0m\u001b[0;32m--> 153 \u001b[0;31m        rho = (lib.cvar.constants.RHO_CRITICAL *\n",
      "\u001b[0m\u001b[0;32m    154 \u001b[0;31m               cosmo['Omega_m'] * cosmo['h']**2)\n",
      "\u001b[0m\u001b[0;32m    155 \u001b[0;31m        \u001b[0mf\u001b[0m \u001b[0;34m=\u001b[0m \u001b[0mself\u001b[0m\u001b[0;34m.\u001b[0m\u001b[0m_get_fsigma\u001b[0m\u001b[0;34m(\u001b[0m\u001b[0mcosmo\u001b[0m\u001b[0;34m,\u001b[0m \u001b[0msigM\u001b[0m\u001b[0;34m,\u001b[0m \u001b[0ma\u001b[0m\u001b[0;34m,\u001b[0m \u001b[0;36m2.302585092994046\u001b[0m \u001b[0;34m*\u001b[0m \u001b[0mlogM\u001b[0m\u001b[0;34m)\u001b[0m\u001b[0;34m\u001b[0m\u001b[0;34m\u001b[0m\u001b[0m\n",
      "\u001b[0m\n"
     ]
    },
    {
     "name": "stdin",
     "output_type": "stream",
     "text": [
      "ipdb>  \n"
     ]
    },
    {
     "name": "stdout",
     "output_type": "stream",
     "text": [
      "> \u001b[0;32m/Users/tmorton/repositories/CCL/pyccl/halos/hmfunc.py\u001b[0m(155)\u001b[0;36mget_mass_function\u001b[0;34m()\u001b[0m\n",
      "\u001b[0;32m    153 \u001b[0;31m        rho = (lib.cvar.constants.RHO_CRITICAL *\n",
      "\u001b[0m\u001b[0;32m    154 \u001b[0;31m               cosmo['Omega_m'] * cosmo['h']**2)\n",
      "\u001b[0m\u001b[0;32m--> 155 \u001b[0;31m        \u001b[0mf\u001b[0m \u001b[0;34m=\u001b[0m \u001b[0mself\u001b[0m\u001b[0;34m.\u001b[0m\u001b[0m_get_fsigma\u001b[0m\u001b[0;34m(\u001b[0m\u001b[0mcosmo\u001b[0m\u001b[0;34m,\u001b[0m \u001b[0msigM\u001b[0m\u001b[0;34m,\u001b[0m \u001b[0ma\u001b[0m\u001b[0;34m,\u001b[0m \u001b[0;36m2.302585092994046\u001b[0m \u001b[0;34m*\u001b[0m \u001b[0mlogM\u001b[0m\u001b[0;34m)\u001b[0m\u001b[0;34m\u001b[0m\u001b[0;34m\u001b[0m\u001b[0m\n",
      "\u001b[0m\u001b[0;32m    156 \u001b[0;31m        \u001b[0mmf\u001b[0m \u001b[0;34m=\u001b[0m \u001b[0mf\u001b[0m \u001b[0;34m*\u001b[0m \u001b[0mrho\u001b[0m \u001b[0;34m*\u001b[0m \u001b[0mdlns_dlogM\u001b[0m \u001b[0;34m/\u001b[0m \u001b[0mM_use\u001b[0m\u001b[0;34m\u001b[0m\u001b[0;34m\u001b[0m\u001b[0m\n",
      "\u001b[0m\u001b[0;32m    157 \u001b[0;31m\u001b[0;34m\u001b[0m\u001b[0m\n",
      "\u001b[0m\n"
     ]
    },
    {
     "name": "stdin",
     "output_type": "stream",
     "text": [
      "ipdb>  s\n"
     ]
    },
    {
     "name": "stdout",
     "output_type": "stream",
     "text": [
      "--Call--\n",
      "> \u001b[0;32m/Users/tmorton/repositories/CCL/pyccl/halos/hmfunc.py\u001b[0m(478)\u001b[0;36m_get_fsigma\u001b[0;34m()\u001b[0m\n",
      "\u001b[0;32m    476 \u001b[0;31m        \u001b[0;32mreturn\u001b[0m \u001b[0;32mFalse\u001b[0m\u001b[0;34m\u001b[0m\u001b[0;34m\u001b[0m\u001b[0m\n",
      "\u001b[0m\u001b[0;32m    477 \u001b[0;31m\u001b[0;34m\u001b[0m\u001b[0m\n",
      "\u001b[0m\u001b[0;32m--> 478 \u001b[0;31m    \u001b[0;32mdef\u001b[0m \u001b[0m_get_fsigma\u001b[0m\u001b[0;34m(\u001b[0m\u001b[0mself\u001b[0m\u001b[0;34m,\u001b[0m \u001b[0mcosmo\u001b[0m\u001b[0;34m,\u001b[0m \u001b[0msigM\u001b[0m\u001b[0;34m,\u001b[0m \u001b[0ma\u001b[0m\u001b[0;34m,\u001b[0m \u001b[0mlnM\u001b[0m\u001b[0;34m)\u001b[0m\u001b[0;34m:\u001b[0m\u001b[0;34m\u001b[0m\u001b[0;34m\u001b[0m\u001b[0m\n",
      "\u001b[0m\u001b[0;32m    479 \u001b[0;31m        \u001b[0mld\u001b[0m \u001b[0;34m=\u001b[0m \u001b[0mnp\u001b[0m\u001b[0;34m.\u001b[0m\u001b[0mlog10\u001b[0m\u001b[0;34m(\u001b[0m\u001b[0mself\u001b[0m\u001b[0;34m.\u001b[0m\u001b[0m_get_Delta_m\u001b[0m\u001b[0;34m(\u001b[0m\u001b[0mcosmo\u001b[0m\u001b[0;34m,\u001b[0m \u001b[0ma\u001b[0m\u001b[0;34m)\u001b[0m\u001b[0;34m)\u001b[0m\u001b[0;34m\u001b[0m\u001b[0;34m\u001b[0m\u001b[0m\n",
      "\u001b[0m\u001b[0;32m    480 \u001b[0;31m        \u001b[0mnu\u001b[0m \u001b[0;34m=\u001b[0m \u001b[0;36m1.686\u001b[0m \u001b[0;34m/\u001b[0m \u001b[0msigM\u001b[0m\u001b[0;34m\u001b[0m\u001b[0;34m\u001b[0m\u001b[0m\n",
      "\u001b[0m\n"
     ]
    },
    {
     "name": "stdin",
     "output_type": "stream",
     "text": [
      "ipdb>  n\n"
     ]
    },
    {
     "name": "stdout",
     "output_type": "stream",
     "text": [
      "> \u001b[0;32m/Users/tmorton/repositories/CCL/pyccl/halos/hmfunc.py\u001b[0m(479)\u001b[0;36m_get_fsigma\u001b[0;34m()\u001b[0m\n",
      "\u001b[0;32m    477 \u001b[0;31m\u001b[0;34m\u001b[0m\u001b[0m\n",
      "\u001b[0m\u001b[0;32m    478 \u001b[0;31m    \u001b[0;32mdef\u001b[0m \u001b[0m_get_fsigma\u001b[0m\u001b[0;34m(\u001b[0m\u001b[0mself\u001b[0m\u001b[0;34m,\u001b[0m \u001b[0mcosmo\u001b[0m\u001b[0;34m,\u001b[0m \u001b[0msigM\u001b[0m\u001b[0;34m,\u001b[0m \u001b[0ma\u001b[0m\u001b[0;34m,\u001b[0m \u001b[0mlnM\u001b[0m\u001b[0;34m)\u001b[0m\u001b[0;34m:\u001b[0m\u001b[0;34m\u001b[0m\u001b[0;34m\u001b[0m\u001b[0m\n",
      "\u001b[0m\u001b[0;32m--> 479 \u001b[0;31m        \u001b[0mld\u001b[0m \u001b[0;34m=\u001b[0m \u001b[0mnp\u001b[0m\u001b[0;34m.\u001b[0m\u001b[0mlog10\u001b[0m\u001b[0;34m(\u001b[0m\u001b[0mself\u001b[0m\u001b[0;34m.\u001b[0m\u001b[0m_get_Delta_m\u001b[0m\u001b[0;34m(\u001b[0m\u001b[0mcosmo\u001b[0m\u001b[0;34m,\u001b[0m \u001b[0ma\u001b[0m\u001b[0;34m)\u001b[0m\u001b[0;34m)\u001b[0m\u001b[0;34m\u001b[0m\u001b[0;34m\u001b[0m\u001b[0m\n",
      "\u001b[0m\u001b[0;32m    480 \u001b[0;31m        \u001b[0mnu\u001b[0m \u001b[0;34m=\u001b[0m \u001b[0;36m1.686\u001b[0m \u001b[0;34m/\u001b[0m \u001b[0msigM\u001b[0m\u001b[0;34m\u001b[0m\u001b[0;34m\u001b[0m\u001b[0m\n",
      "\u001b[0m\u001b[0;32m    481 \u001b[0;31m        \u001b[0mpa\u001b[0m \u001b[0;34m=\u001b[0m \u001b[0mself\u001b[0m\u001b[0;34m.\u001b[0m\u001b[0mpa0\u001b[0m\u001b[0;34m(\u001b[0m\u001b[0mld\u001b[0m\u001b[0;34m)\u001b[0m \u001b[0;34m*\u001b[0m \u001b[0ma\u001b[0m\u001b[0;34m**\u001b[0m\u001b[0;34m(\u001b[0m\u001b[0;34m-\u001b[0m\u001b[0;36m0.27\u001b[0m\u001b[0;34m)\u001b[0m\u001b[0;34m\u001b[0m\u001b[0;34m\u001b[0m\u001b[0m\n",
      "\u001b[0m\n"
     ]
    },
    {
     "name": "stdin",
     "output_type": "stream",
     "text": [
      "ipdb>  \n"
     ]
    },
    {
     "name": "stdout",
     "output_type": "stream",
     "text": [
      "> \u001b[0;32m/Users/tmorton/repositories/CCL/pyccl/halos/hmfunc.py\u001b[0m(480)\u001b[0;36m_get_fsigma\u001b[0;34m()\u001b[0m\n",
      "\u001b[0;32m    478 \u001b[0;31m    \u001b[0;32mdef\u001b[0m \u001b[0m_get_fsigma\u001b[0m\u001b[0;34m(\u001b[0m\u001b[0mself\u001b[0m\u001b[0;34m,\u001b[0m \u001b[0mcosmo\u001b[0m\u001b[0;34m,\u001b[0m \u001b[0msigM\u001b[0m\u001b[0;34m,\u001b[0m \u001b[0ma\u001b[0m\u001b[0;34m,\u001b[0m \u001b[0mlnM\u001b[0m\u001b[0;34m)\u001b[0m\u001b[0;34m:\u001b[0m\u001b[0;34m\u001b[0m\u001b[0;34m\u001b[0m\u001b[0m\n",
      "\u001b[0m\u001b[0;32m    479 \u001b[0;31m        \u001b[0mld\u001b[0m \u001b[0;34m=\u001b[0m \u001b[0mnp\u001b[0m\u001b[0;34m.\u001b[0m\u001b[0mlog10\u001b[0m\u001b[0;34m(\u001b[0m\u001b[0mself\u001b[0m\u001b[0;34m.\u001b[0m\u001b[0m_get_Delta_m\u001b[0m\u001b[0;34m(\u001b[0m\u001b[0mcosmo\u001b[0m\u001b[0;34m,\u001b[0m \u001b[0ma\u001b[0m\u001b[0;34m)\u001b[0m\u001b[0;34m)\u001b[0m\u001b[0;34m\u001b[0m\u001b[0;34m\u001b[0m\u001b[0m\n",
      "\u001b[0m\u001b[0;32m--> 480 \u001b[0;31m        \u001b[0mnu\u001b[0m \u001b[0;34m=\u001b[0m \u001b[0;36m1.686\u001b[0m \u001b[0;34m/\u001b[0m \u001b[0msigM\u001b[0m\u001b[0;34m\u001b[0m\u001b[0;34m\u001b[0m\u001b[0m\n",
      "\u001b[0m\u001b[0;32m    481 \u001b[0;31m        \u001b[0mpa\u001b[0m \u001b[0;34m=\u001b[0m \u001b[0mself\u001b[0m\u001b[0;34m.\u001b[0m\u001b[0mpa0\u001b[0m\u001b[0;34m(\u001b[0m\u001b[0mld\u001b[0m\u001b[0;34m)\u001b[0m \u001b[0;34m*\u001b[0m \u001b[0ma\u001b[0m\u001b[0;34m**\u001b[0m\u001b[0;34m(\u001b[0m\u001b[0;34m-\u001b[0m\u001b[0;36m0.27\u001b[0m\u001b[0;34m)\u001b[0m\u001b[0;34m\u001b[0m\u001b[0;34m\u001b[0m\u001b[0m\n",
      "\u001b[0m\u001b[0;32m    482 \u001b[0;31m        \u001b[0mpb\u001b[0m \u001b[0;34m=\u001b[0m \u001b[0mself\u001b[0m\u001b[0;34m.\u001b[0m\u001b[0mpb0\u001b[0m\u001b[0;34m(\u001b[0m\u001b[0mld\u001b[0m\u001b[0;34m)\u001b[0m \u001b[0;34m*\u001b[0m \u001b[0ma\u001b[0m\u001b[0;34m**\u001b[0m\u001b[0;34m(\u001b[0m\u001b[0;34m-\u001b[0m\u001b[0;36m0.20\u001b[0m\u001b[0;34m)\u001b[0m\u001b[0;34m\u001b[0m\u001b[0;34m\u001b[0m\u001b[0m\n",
      "\u001b[0m\n"
     ]
    },
    {
     "name": "stdin",
     "output_type": "stream",
     "text": [
      "ipdb>  ld\n"
     ]
    },
    {
     "name": "stdout",
     "output_type": "stream",
     "text": [
      "3.2091520960345683\n"
     ]
    },
    {
     "name": "stdin",
     "output_type": "stream",
     "text": [
      "ipdb>  self._get_Delta_m(cosmo, a)\n"
     ]
    },
    {
     "name": "stdout",
     "output_type": "stream",
     "text": [
      "1618.6468112657817\n"
     ]
    },
    {
     "name": "stdin",
     "output_type": "stream",
     "text": [
      "ipdb>  q\n"
     ]
    }
   ],
   "source": [
    "hmf_lcdm.get_mass_function(cosmo_lcdm, Mgrid, 1.0)"
   ]
  },
  {
   "cell_type": "code",
   "execution_count": 97,
   "metadata": {},
   "outputs": [
    {
     "data": {
      "text/plain": [
       "(64, 1000)"
      ]
     },
     "execution_count": 97,
     "metadata": {},
     "output_type": "execute_result"
    }
   ],
   "source": [
    "pk_lin_lcdm.shape"
   ]
  },
  {
   "cell_type": "code",
   "execution_count": 98,
   "metadata": {},
   "outputs": [
    {
     "data": {
      "text/plain": [
       "array([ 0.        ,  0.31746032,  0.63492063,  0.95238095,  1.26984127,\n",
       "        1.58730159,  1.9047619 ,  2.22222222,  2.53968254,  2.85714286,\n",
       "        3.17460317,  3.49206349,  3.80952381,  4.12698413,  4.44444444,\n",
       "        4.76190476,  5.07936508,  5.3968254 ,  5.71428571,  6.03174603,\n",
       "        6.34920635,  6.66666667,  6.98412698,  7.3015873 ,  7.61904762,\n",
       "        7.93650794,  8.25396825,  8.57142857,  8.88888889,  9.20634921,\n",
       "        9.52380952,  9.84126984, 10.15873016, 10.47619048, 10.79365079,\n",
       "       11.11111111, 11.42857143, 11.74603175, 12.06349206, 12.38095238,\n",
       "       12.6984127 , 13.01587302, 13.33333333, 13.65079365, 13.96825397,\n",
       "       14.28571429, 14.6031746 , 14.92063492, 15.23809524, 15.55555556,\n",
       "       15.87301587, 16.19047619, 16.50793651, 16.82539683, 17.14285714,\n",
       "       17.46031746, 17.77777778, 18.0952381 , 18.41269841, 18.73015873,\n",
       "       19.04761905, 19.36507937, 19.68253968, 20.        ])"
      ]
     },
     "execution_count": 98,
     "metadata": {},
     "output_type": "execute_result"
    }
   ],
   "source": [
    "z_pk"
   ]
  },
  {
   "cell_type": "code",
   "execution_count": 99,
   "metadata": {},
   "outputs": [
    {
     "data": {
      "text/plain": [
       "[<matplotlib.lines.Line2D at 0x7ffcc88624f0>]"
      ]
     },
     "execution_count": 99,
     "metadata": {},
     "output_type": "execute_result"
    },
    {
     "data": {
      "image/png": "[encoded data removed]",
      "text/plain": [
       "<Figure size 432x288 with 1 Axes>"
      ]
     },
     "metadata": {
      "needs_background": "light"
     },
     "output_type": "display_data"
    }
   ],
   "source": [
    "import matplotlib.pyplot as plt\n",
    "\n",
    "plt.semilogx(k_arr, pk_lin_idm[-1, :]/pk_lin_lcdm[-1, :])"
   ]
  },
  {
   "cell_type": "code",
   "execution_count": 100,
   "metadata": {},
   "outputs": [
    {
     "data": {
      "text/plain": [
       "<matplotlib.legend.Legend at 0x7ffc9abd5520>"
      ]
     },
     "execution_count": 100,
     "metadata": {},
     "output_type": "execute_result"
    },
    {
     "data": {
      "image/png": "[encoded data removed]",
      "text/plain": [
       "<Figure size 432x288 with 1 Axes>"
      ]
     },
     "metadata": {
      "needs_background": "light"
     },
     "output_type": "display_data"
    }
   ],
   "source": [
    "plt.loglog(k_arr, pk_lin_lcdm[-1, :], label='lcdm')\n",
    "plt.loglog(k_arr, pk_lin_idm[-1, :], label='idm')\n",
    "plt.legend()"
   ]
  },
  {
   "cell_type": "code",
   "execution_count": 101,
   "metadata": {},
   "outputs": [
    {
     "data": {
      "text/plain": [
       "[<matplotlib.lines.Line2D at 0x7ffce816ea90>]"
      ]
     },
     "execution_count": 101,
     "metadata": {},
     "output_type": "execute_result"
    },
    {
     "data": {
      "image/png": "[encoded data removed]",
      "text/plain": [
       "<Figure size 432x288 with 1 Axes>"
      ]
     },
     "metadata": {
      "needs_background": "light"
     },
     "output_type": "display_data"
    }
   ],
   "source": [
    "import matplotlib.pyplot as plt\n",
    "\n",
    "# plt.loglog(Mgrid, dndm_lcdm)\n",
    "# plt.loglog(Mgrid, dndm_idm)\n",
    "\n",
    "Mgrid = np.logspace(4, 18, 100)\n",
    "plt.loglog(Mgrid, dndm_idm/dndm_lcdm)"
   ]
  },
  {
   "cell_type": "code",
   "execution_count": null,
   "metadata": {},
   "outputs": [],
   "source": []
  },
  {
   "cell_type": "code",
   "execution_count": null,
   "metadata": {},
   "outputs": [],
   "source": []
  },
  {
   "cell_type": "code",
   "execution_count": null,
   "metadata": {},
   "outputs": [],
   "source": []
  },
  {
   "cell_type": "code",
   "execution_count": null,
   "metadata": {},
   "outputs": [],
   "source": []
  },
  {
   "cell_type": "code",
   "execution_count": 90,
   "metadata": {},
   "outputs": [
    {
     "ename": "NameError",
     "evalue": "name 'pyccl' is not defined",
     "output_type": "error",
     "traceback": [
      "\u001b[0;31m---------------------------------------------------------------------------\u001b[0m",
      "\u001b[0;31mNameError\u001b[0m                                 Traceback (most recent call last)",
      "\u001b[0;32m<ipython-input-90-0eac83e63927>\u001b[0m in \u001b[0;36m<module>\u001b[0;34m\u001b[0m\n\u001b[0;32m----> 1\u001b[0;31m \u001b[0mcosmo\u001b[0m \u001b[0;34m=\u001b[0m \u001b[0mpyccl\u001b[0m\u001b[0;34m.\u001b[0m\u001b[0mCosmology\u001b[0m\u001b[0;34m(\u001b[0m\u001b[0mOmega_c\u001b[0m\u001b[0;34m=\u001b[0m\u001b[0;36m0.26030000000000003\u001b[0m\u001b[0;34m,\u001b[0m \u001b[0mOmega_b\u001b[0m\u001b[0;34m=\u001b[0m\u001b[0;36m0.0486\u001b[0m\u001b[0;34m,\u001b[0m \u001b[0mh\u001b[0m\u001b[0;34m=\u001b[0m\u001b[0;36m0.6774\u001b[0m\u001b[0;34m,\u001b[0m \u001b[0mn_s\u001b[0m\u001b[0;34m=\u001b[0m\u001b[0;36m0.9667\u001b[0m\u001b[0;34m,\u001b[0m \u001b[0msigma8\u001b[0m\u001b[0;34m=\u001b[0m\u001b[0;36m0.8159\u001b[0m\u001b[0;34m,\u001b[0m \u001b[0mA_s\u001b[0m\u001b[0;34m=\u001b[0m\u001b[0;32mNone\u001b[0m\u001b[0;34m,\u001b[0m \u001b[0mOmega_k\u001b[0m\u001b[0;34m=\u001b[0m\u001b[0;36m0.0\u001b[0m\u001b[0;34m,\u001b[0m \u001b[0mOmega_g\u001b[0m\u001b[0;34m=\u001b[0m\u001b[0;32mNone\u001b[0m\u001b[0;34m,\u001b[0m \u001b[0mNeff\u001b[0m\u001b[0;34m=\u001b[0m\u001b[0;36m3.046\u001b[0m\u001b[0;34m,\u001b[0m \u001b[0mw0\u001b[0m\u001b[0;34m=\u001b[0m\u001b[0;34m-\u001b[0m\u001b[0;36m1.0\u001b[0m\u001b[0;34m,\u001b[0m \u001b[0mwa\u001b[0m\u001b[0;34m=\u001b[0m\u001b[0;36m0.0\u001b[0m\u001b[0;34m,\u001b[0m \u001b[0mT_CMB\u001b[0m\u001b[0;34m=\u001b[0m\u001b[0;32mNone\u001b[0m\u001b[0;34m,\u001b[0m \u001b[0mbcm_log10Mc\u001b[0m\u001b[0;34m=\u001b[0m\u001b[0;36m14.079181246047625\u001b[0m\u001b[0;34m,\u001b[0m \u001b[0mbcm_etab\u001b[0m\u001b[0;34m=\u001b[0m\u001b[0;36m0.5\u001b[0m\u001b[0;34m,\u001b[0m \u001b[0mbcm_ks\u001b[0m\u001b[0;34m=\u001b[0m\u001b[0;36m55.0\u001b[0m\u001b[0;34m,\u001b[0m \u001b[0mmu_0\u001b[0m\u001b[0;34m=\u001b[0m\u001b[0;36m0.0\u001b[0m\u001b[0;34m,\u001b[0m \u001b[0msigma_0\u001b[0m\u001b[0;34m=\u001b[0m\u001b[0;36m0.0\u001b[0m\u001b[0;34m,\u001b[0m \u001b[0mm_nu\u001b[0m\u001b[0;34m=\u001b[0m\u001b[0;36m0.0\u001b[0m\u001b[0;34m,\u001b[0m \u001b[0mm_nu_type\u001b[0m\u001b[0;34m=\u001b[0m\u001b[0;32mNone\u001b[0m\u001b[0;34m,\u001b[0m \u001b[0mz_mg\u001b[0m\u001b[0;34m=\u001b[0m\u001b[0;32mNone\u001b[0m\u001b[0;34m,\u001b[0m \u001b[0mdf_mg\u001b[0m\u001b[0;34m=\u001b[0m\u001b[0;32mNone\u001b[0m\u001b[0;34m,\u001b[0m \u001b[0mtransfer_function\u001b[0m\u001b[0;34m=\u001b[0m\u001b[0;34m'boltzmann_camb'\u001b[0m\u001b[0;34m,\u001b[0m \u001b[0mmatter_power_spectrum\u001b[0m\u001b[0;34m=\u001b[0m\u001b[0;34m'halofit'\u001b[0m\u001b[0;34m,\u001b[0m \u001b[0mbaryons_power_spectrum\u001b[0m\u001b[0;34m=\u001b[0m\u001b[0;34m'nobaryons'\u001b[0m\u001b[0;34m,\u001b[0m \u001b[0mmass_function\u001b[0m\u001b[0;34m=\u001b[0m\u001b[0;34m'tinker10'\u001b[0m\u001b[0;34m,\u001b[0m \u001b[0mhalo_concentration\u001b[0m\u001b[0;34m=\u001b[0m\u001b[0;34m'duffy2008'\u001b[0m\u001b[0;34m,\u001b[0m \u001b[0memulator_neutrinos\u001b[0m\u001b[0;34m=\u001b[0m\u001b[0;34m'strict'\u001b[0m\u001b[0;34m)\u001b[0m\u001b[0;34m\u001b[0m\u001b[0;34m\u001b[0m\u001b[0m\n\u001b[0m",
      "\u001b[0;31mNameError\u001b[0m: name 'pyccl' is not defined"
     ]
    }
   ],
   "source": [
    "cosmo = pyccl.Cosmology(Omega_c=0.26030000000000003, Omega_b=0.0486, h=0.6774, n_s=0.9667, sigma8=0.8159, A_s=None, Omega_k=0.0, Omega_g=None, Neff=3.046, w0=-1.0, wa=0.0, T_CMB=None, bcm_log10Mc=14.079181246047625, bcm_etab=0.5, bcm_ks=55.0, mu_0=0.0, sigma_0=0.0, m_nu=0.0, m_nu_type=None, z_mg=None, df_mg=None, transfer_function='boltzmann_camb', matter_power_spectrum='halofit', baryons_power_spectrum='nobaryons', mass_function='tinker10', halo_concentration='duffy2008', emulator_neutrinos='strict')"
   ]
  },
  {
   "cell_type": "code",
   "execution_count": 91,
   "metadata": {},
   "outputs": [],
   "source": [
    "import pyccl"
   ]
  },
  {
   "cell_type": "code",
   "execution_count": 92,
   "metadata": {},
   "outputs": [],
   "source": [
    "cosmo = pyccl.Cosmology(Omega_c=0.26030000000000003, Omega_b=0.0486, h=0.6774, n_s=0.9667, sigma8=0.8159, A_s=None, Omega_k=0.0, Omega_g=None, Neff=3.046, w0=-1.0, wa=0.0, T_CMB=None, bcm_log10Mc=14.079181246047625, bcm_etab=0.5, bcm_ks=55.0, mu_0=0.0, sigma_0=0.0, m_nu=0.0, m_nu_type=None, z_mg=None, df_mg=None, transfer_function='boltzmann_camb', matter_power_spectrum='halofit', baryons_power_spectrum='nobaryons', mass_function='tinker10', halo_concentration='duffy2008', emulator_neutrinos='strict')"
   ]
  },
  {
   "cell_type": "code",
   "execution_count": 93,
   "metadata": {},
   "outputs": [
    {
     "ename": "AttributeError",
     "evalue": "'MassFuncTinker08' object has no attribute 'cosmo'",
     "output_type": "error",
     "traceback": [
      "\u001b[0;31m---------------------------------------------------------------------------\u001b[0m",
      "\u001b[0;31mAttributeError\u001b[0m                            Traceback (most recent call last)",
      "\u001b[0;32m<ipython-input-93-015448e485a2>\u001b[0m in \u001b[0;36m<module>\u001b[0;34m\u001b[0m\n\u001b[0;32m----> 1\u001b[0;31m \u001b[0mhmf_lcdm\u001b[0m\u001b[0;34m.\u001b[0m\u001b[0mcosmo\u001b[0m\u001b[0;34m\u001b[0m\u001b[0;34m\u001b[0m\u001b[0m\n\u001b[0m",
      "\u001b[0;31mAttributeError\u001b[0m: 'MassFuncTinker08' object has no attribute 'cosmo'"
     ]
    }
   ],
   "source": []
  },
  {
   "cell_type": "code",
   "execution_count": null,
   "metadata": {},
   "outputs": [],
   "source": []
  }
 ],
 "metadata": {
  "kernelspec": {
   "display_name": "Python 3",
   "language": "python",
   "name": "python3"
  },
  "language_info": {
   "codemirror_mode": {
    "name": "ipython",
    "version": 3
   },
   "file_extension": ".py",
   "mimetype": "text/x-python",
   "name": "python",
   "nbconvert_exporter": "python",
   "pygments_lexer": "ipython3",
   "version": "3.8.3"
  }
 },
 "nbformat": 4,
 "nbformat_minor": 4
}
