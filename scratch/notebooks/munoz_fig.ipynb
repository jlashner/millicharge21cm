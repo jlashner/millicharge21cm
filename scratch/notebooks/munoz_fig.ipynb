{
 "cells": [
  {
   "cell_type": "code",
   "execution_count": 1,
   "metadata": {},
   "outputs": [],
   "source": [
    "import ares\n",
    "import matplotlib.pyplot as plt\n",
    "import numpy as np\n",
    "import classy\n",
    "from astropy.cosmology import Planck18_arXiv_v2 as Planck\n",
    "from importlib import reload\n",
    "import pickle\n",
    "from millicharge import LCDM"
   ]
  },
  {
   "cell_type": "markdown",
   "metadata": {},
   "source": [
    "Now we will run class for various models:\n",
    "\n",
    "1. No DM interaction\n",
    "2. DM interaction but no relative velocities\n",
    "3. DM interaction & relative velocities\n",
    "\n",
    "The following requires CLASS to be installed from kboddy/class_dmeff, dev-vrel branch"
   ]
  },
  {
   "cell_type": "code",
   "execution_count": 2,
   "metadata": {},
   "outputs": [
    {
     "name": "stdout",
     "output_type": "stream",
     "text": [
      "Computing DM Class\n",
      "Computing No Vrel Class\n",
      "Computing No DM Class\n"
     ]
    }
   ],
   "source": [
    "m_dmeff = 1.0  # GeV\n",
    "sigma_dmeff = 1e-41  # cm^2\n",
    "Vrel_dmeff = 30 # km/s at z ~ 1010\n",
    "params = LCDM.class_params()\n",
    "params.update({\n",
    "    'omega_dmeff': 0.12038, 'omega_cdm': 1e-10, 'm_dmeff': m_dmeff,\n",
    "    'sigma_dmeff': sigma_dmeff, 'npow_dmeff': -4, 'Vrel_dmeff': Vrel_dmeff\n",
    "})\n",
    "\n",
    "params_noVrel = params.copy()\n",
    "params_noVrel['Vrel_dmeff'] = 0\n",
    "\n",
    "params_nodm = params.copy()\n",
    "params_nodm['sigma_dmeff'] = 0\n",
    "\n",
    "print(\"Computing DM Class\", flush=True)\n",
    "cl = classy.Class()\n",
    "cl.set(params)\n",
    "cl.compute()\n",
    "\n",
    "print(\"Computing No Vrel Class\", flush=True)\n",
    "cl_noVrel = classy.Class()\n",
    "cl_noVrel.set(params_noVrel)\n",
    "cl_noVrel.compute()\n",
    "\n",
    "print(\"Computing No DM Class\", flush=True)\n",
    "cl_nodm = classy.Class()\n",
    "cl_nodm.set(params_nodm)\n",
    "cl_nodm.compute()\n"
   ]
  },
  {
   "cell_type": "markdown",
   "metadata": {},
   "source": [
    "The following are to be passed as `cosmology_inits` (a new thing in ARES)"
   ]
  },
  {
   "cell_type": "code",
   "execution_count": 3,
   "metadata": {},
   "outputs": [],
   "source": [
    "z_initial=200\n",
    "z_initial=60\n",
    "z_initial=60\n",
    "\n",
    "thermo = cl.get_thermodynamics()\n",
    "inputs = {\n",
    "    'z': thermo['z'], 'xe': thermo['x_e'], 'Tk': thermo['Tb [K]'], \n",
    "    'Tchi': thermo['T_dmeff'], 'Vchib': Vrel_dmeff*1e5 * z_initial / 1010\n",
    "}\n",
    "\n",
    "\n",
    "thermo_noVrel = cl_noVrel.get_thermodynamics()\n",
    "inputs_noVrel = {\n",
    "    'z': thermo_noVrel['z'], 'xe': thermo_noVrel['x_e'], 'Tk': thermo_noVrel['Tb [K]'], \n",
    "    'Tchi': thermo_noVrel['T_dmeff'], 'Vchib': 0\n",
    "}\n",
    "    \n",
    "thermo_nodm = cl_nodm.get_thermodynamics()\n",
    "inputs_nodm = {\n",
    "    'z': thermo_nodm['z'], 'xe': thermo_nodm['x_e'], 'Tk': thermo_nodm['Tb [K]'], \n",
    "    'Tchi': thermo_nodm['T_dmeff'], 'Vchib': 0\n",
    "}\n"
   ]
  },
  {
   "cell_type": "code",
   "execution_count": 4,
   "metadata": {},
   "outputs": [],
   "source": [
    "import os\n",
    "hmf_table = os.environ['ARES'] + '/input/hmf/hmf_ST_planck_TTTEEE_lowl_lowE_best_logM_1400_4-18_z_1201_0-60.hdf5'"
   ]
  },
  {
   "cell_type": "code",
   "execution_count": 5,
   "metadata": {},
   "outputs": [
    {
     "name": "stdout",
     "output_type": "stream",
     "text": [
      "\n",
      "##############################################################################################################\n",
      "####                                      ARES Simulation: Overview                                       ####\n",
      "##############################################################################################################\n",
      "#### ---------------------------------------------------------------------------------------------------- ####\n",
      "#### Uniform Backgrounds                                                                                  ####\n",
      "#### ---------------------------------------------------------------------------------------------------- ####\n",
      "####               sfrd      sed    radio    O/IR    Ly-a     LW     Ly-C   X-ray    RTE                  ####\n",
      "#### pop #0  :    fcoll      yes                      x       x                                           ####\n",
      "#### pop #1  : link:sfrd:0   yes                                              x                           ####\n",
      "#### pop #2  : link:sfrd:0   yes                                      x                                   ####\n",
      "#### ---------------------------------------------------------------------------------------------------- ####\n",
      "#### Physics                                                                                              ####\n",
      "#### ---------------------------------------------------------------------------------------------------- ####\n",
      "#### cgm_initial_temperature        : [10000.0]                                                           ####\n",
      "#### clumping_factor                : 1                                                                   ####\n",
      "#### secondary_ionization           : 1                                                                   ####\n",
      "#### approx_Salpha                  : 1                                                                   ####\n",
      "#### include_He                     : False                                                               ####\n",
      "#### feedback_LW                    : False                                                               ####\n",
      "##############################################################################################################\n",
      "\n",
      "##############################################################################################################\n",
      "####                                      ARES Simulation: Overview                                       ####\n",
      "##############################################################################################################\n",
      "#### ---------------------------------------------------------------------------------------------------- ####\n",
      "#### Uniform Backgrounds                                                                                  ####\n",
      "#### ---------------------------------------------------------------------------------------------------- ####\n",
      "####               sfrd      sed    radio    O/IR    Ly-a     LW     Ly-C   X-ray    RTE                  ####\n",
      "#### pop #0  :    fcoll      yes                      x       x                                           ####\n",
      "#### pop #1  : link:sfrd:0   yes                                              x                           ####\n",
      "#### pop #2  : link:sfrd:0   yes                                      x                                   ####\n",
      "#### ---------------------------------------------------------------------------------------------------- ####\n",
      "#### Physics                                                                                              ####\n",
      "#### ---------------------------------------------------------------------------------------------------- ####\n",
      "#### cgm_initial_temperature        : [10000.0]                                                           ####\n",
      "#### clumping_factor                : 1                                                                   ####\n",
      "#### secondary_ionization           : 1                                                                   ####\n",
      "#### approx_Salpha                  : 1                                                                   ####\n",
      "#### include_He                     : False                                                               ####\n",
      "#### feedback_LW                    : False                                                               ####\n",
      "##############################################################################################################\n",
      "\n",
      "##############################################################################################################\n",
      "####                                      ARES Simulation: Overview                                       ####\n",
      "##############################################################################################################\n",
      "#### ---------------------------------------------------------------------------------------------------- ####\n",
      "#### Uniform Backgrounds                                                                                  ####\n",
      "#### ---------------------------------------------------------------------------------------------------- ####\n",
      "####               sfrd      sed    radio    O/IR    Ly-a     LW     Ly-C   X-ray    RTE                  ####\n",
      "#### pop #0  :    fcoll      yes                      x       x                                           ####\n",
      "#### pop #1  : link:sfrd:0   yes                                              x                           ####\n",
      "#### pop #2  : link:sfrd:0   yes                                      x                                   ####\n",
      "#### ---------------------------------------------------------------------------------------------------- ####\n",
      "#### Physics                                                                                              ####\n",
      "#### ---------------------------------------------------------------------------------------------------- ####\n",
      "#### cgm_initial_temperature        : [10000.0]                                                           ####\n",
      "#### clumping_factor                : 1                                                                   ####\n",
      "#### secondary_ionization           : 1                                                                   ####\n",
      "#### approx_Salpha                  : 1                                                                   ####\n",
      "#### include_He                     : False                                                               ####\n",
      "#### feedback_LW                    : False                                                               ####\n",
      "##############################################################################################################\n"
     ]
    }
   ],
   "source": [
    "# No DM sim\n",
    "\n",
    "other_params = dict(restricted_timestep=['ions', 'neutrals', 'electrons', 'temperature', 'hubble'],\n",
    "                    epsilon_dt=0.05*0.02)\n",
    "other_params_idm = dict(restricted_timestep=['ions', 'neutrals', 'electrons', 'temperature', 'hubble', 'idm'],\n",
    "                    epsilon_dt=0.05*0.02)\n",
    "\n",
    "sim_nodm = ares.simulations.Global21cm(\n",
    "    cosmology_inits=inputs_nodm, include_dm=False, verbose=True,\n",
    "    m_dmeff=m_dmeff, sigma_dmeff=0, npow_dmeff=-4,\n",
    "    cosmology_name='user', hmf_table=hmf_table, initial_redshift=z_initial, \n",
    "    **other_params\n",
    ")\n",
    "\n",
    "# Vchi = 0 sim\n",
    "\n",
    "\n",
    "sim_noVrel = ares.simulations.Global21cm(\n",
    "    cosmology_inits=inputs_noVrel, include_dm=True, verbose=True,\n",
    "    m_dmeff=m_dmeff, sigma_dmeff=sigma_dmeff, npow_dmeff=-4,\n",
    "    cosmology_name='user', hmf_table=hmf_table, initial_redshift=z_initial, \n",
    "    **other_params_idm\n",
    ")\n",
    "\n",
    "# Vrel = 30 km/s at z=1010\n",
    "# trying to change initial timestep here (jordan suggested)\n",
    "# initial_timestep = 1e-9\n",
    "initial_timestep = .001\n",
    "sim = ares.simulations.Global21cm(\n",
    "    cosmology_inits=inputs, include_dm=True, verbose=True,\n",
    "    m_dmeff=m_dmeff, sigma_dmeff=sigma_dmeff, npow_dmeff=-4,\n",
    "    cosmology_name='user', hmf_table=hmf_table, initial_timestep=initial_timestep, initial_redshift=z_initial, \n",
    "    **other_params_idm\n",
    ")"
   ]
  },
  {
   "cell_type": "code",
   "execution_count": 6,
   "metadata": {},
   "outputs": [
    {
     "name": "stdout",
     "output_type": "stream",
     "text": [
      "Running dm sim\n",
      "/Users/tmorton/repositories/ares/input/hmf/hmf_ST_planck_TTTEEE_lowl_lowE_best_logM_1400_4-18_z_1201_0-60.hdf5\n",
      "# Loaded $ARES/input/hmf/hmf_ST_planck_TTTEEE_lowl_lowE_best_logM_1400_4-18_z_1201_0-60.hdf5.\n",
      "Running vchib=0 sim\n",
      "/Users/tmorton/repositories/ares/input/hmf/hmf_ST_planck_TTTEEE_lowl_lowE_best_logM_1400_4-18_z_1201_0-60.hdf5\n",
      "# Loaded $ARES/input/hmf/hmf_ST_planck_TTTEEE_lowl_lowE_best_logM_1400_4-18_z_1201_0-60.hdf5.\n",
      "Running nodm sim\n",
      "/Users/tmorton/repositories/ares/input/hmf/hmf_ST_planck_TTTEEE_lowl_lowE_best_logM_1400_4-18_z_1201_0-60.hdf5\n",
      "# Loaded $ARES/input/hmf/hmf_ST_planck_TTTEEE_lowl_lowE_best_logM_1400_4-18_z_1201_0-60.hdf5.\n"
     ]
    }
   ],
   "source": [
    "print(\"Running dm sim\")\n",
    "sim.run()\n",
    "print(\"Running vchib=0 sim\")\n",
    "sim_noVrel.run()\n",
    "print(\"Running nodm sim\")\n",
    "sim_nodm.run()"
   ]
  },
  {
   "cell_type": "code",
   "execution_count": 11,
   "metadata": {},
   "outputs": [],
   "source": [
    "# %tb"
   ]
  },
  {
   "cell_type": "code",
   "execution_count": 12,
   "metadata": {},
   "outputs": [],
   "source": [
    "# sim.history"
   ]
  },
  {
   "cell_type": "code",
   "execution_count": 25,
   "metadata": {},
   "outputs": [
    {
     "data": {
      "text/plain": [
       "[(-600, 100), (0, 220)]"
      ]
     },
     "execution_count": 25,
     "metadata": {},
     "output_type": "execute_result"
    },
    {
     "name": "stderr",
     "output_type": "stream",
     "text": [
      "/Users/tmorton/miniconda3/envs/millicharge/lib/python3.8/site-packages/IPython/core/pylabtools.py:132: UserWarning: Creating legend with loc=\"best\" can be slow with large amounts of data.\n",
      "  fig.canvas.print_figure(bytes_io, **kw)\n"
     ]
    },
    {
     "data": {
      "image/png": "[encoded data removed]",
      "text/plain": [
       "<Figure size 432x288 with 4 Axes>"
      ]
     },
     "metadata": {
      "needs_background": "light"
     },
     "output_type": "display_data"
    }
   ],
   "source": [
    "fig, ax = plt.subplots()\n",
    "sim.GlobalSignature(ax=ax, label=r'Vchib = 30km/s')\n",
    "# sim1.GlobalSignature(ax=ax, label=r'$\\sigma=10^{-41}, V_{\\chi^b}=2.5 \\mathrm{km/s}$')\n",
    "sim_noVrel.GlobalSignature(ax=ax, label=r'Vchib =0')\n",
    "sim_nodm.GlobalSignature(ax=ax, label=r'no_dm')\n",
    "\n",
    "ax.legend()\n",
    "ax.set(ylim=(-600,100), xlim=(0, 220))"
   ]
  },
  {
   "cell_type": "code",
   "execution_count": 28,
   "metadata": {},
   "outputs": [
    {
     "data": {
      "text/plain": [
       "<matplotlib.lines.Line2D at 0x7ff6eb06ad30>"
      ]
     },
     "execution_count": 28,
     "metadata": {},
     "output_type": "execute_result"
    },
    {
     "name": "stderr",
     "output_type": "stream",
     "text": [
      "/Users/tmorton/miniconda3/envs/millicharge/lib/python3.8/site-packages/IPython/core/pylabtools.py:132: UserWarning: Creating legend with loc=\"best\" can be slow with large amounts of data.\n",
      "  fig.canvas.print_figure(bytes_io, **kw)\n"
     ]
    },
    {
     "data": {
      "image/png": "[encoded data removed]",
      "text/plain": [
       "<Figure size 432x288 with 1 Axes>"
      ]
     },
     "metadata": {
      "needs_background": "light"
     },
     "output_type": "display_data"
    }
   ],
   "source": [
    "fig, ax = plt.subplots()\n",
    "\n",
    "cs = ['C0', 'C1']\n",
    "labels = ['Vchib=30km/s', 'Vchib=0']\n",
    "lines = []\n",
    "for i,s in enumerate([sim, sim_noVrel]):\n",
    "# for i,s in enumerate([sim]):\n",
    "    zs = s.history['z'] \n",
    "    Tb = s.history['igm_Tk']\n",
    "    Tchi = s.history['igm_Tchi']\n",
    "    ax.plot(zs, Tb, c=cs[i])\n",
    "    l, = ax.plot(zs, Tchi, c=cs[i])\n",
    "    lines.append(l)\n",
    "ax.set(xscale='log', yscale='log')\n",
    "ax.set(xlim=(10, 1000), ylim=(1,1100))\n",
    "ax.set(xlabel='z', ylabel='T [K]')\n",
    "ax.legend(lines, labels)\n",
    "ax.axvline(z_initial, c='grey', alpha=0.5)"
   ]
  },
  {
   "cell_type": "code",
   "execution_count": 27,
   "metadata": {},
   "outputs": [
    {
     "ename": "NameError",
     "evalue": "name 'sim0' is not defined",
     "output_type": "error",
     "traceback": [
      "\u001b[0;31m---------------------------------------------------------------------------\u001b[0m",
      "\u001b[0;31mNameError\u001b[0m                                 Traceback (most recent call last)",
      "\u001b[0;32m<ipython-input-27-43ad2014a4ef>\u001b[0m in \u001b[0;36m<module>\u001b[0;34m\u001b[0m\n\u001b[1;32m      1\u001b[0m \u001b[0mfig\u001b[0m\u001b[0;34m,\u001b[0m \u001b[0max\u001b[0m \u001b[0;34m=\u001b[0m \u001b[0mplt\u001b[0m\u001b[0;34m.\u001b[0m\u001b[0msubplots\u001b[0m\u001b[0;34m(\u001b[0m\u001b[0;34m)\u001b[0m\u001b[0;34m\u001b[0m\u001b[0;34m\u001b[0m\u001b[0m\n\u001b[1;32m      2\u001b[0m \u001b[0;34m\u001b[0m\u001b[0m\n\u001b[0;32m----> 3\u001b[0;31m \u001b[0max\u001b[0m\u001b[0;34m.\u001b[0m\u001b[0mplot\u001b[0m\u001b[0;34m(\u001b[0m\u001b[0msim0\u001b[0m\u001b[0;34m.\u001b[0m\u001b[0mhistory\u001b[0m\u001b[0;34m[\u001b[0m\u001b[0;34m'z'\u001b[0m\u001b[0;34m]\u001b[0m\u001b[0;34m,\u001b[0m \u001b[0msim0\u001b[0m\u001b[0;34m.\u001b[0m\u001b[0mhistory\u001b[0m\u001b[0;34m[\u001b[0m\u001b[0;34m'igm_Tk'\u001b[0m\u001b[0;34m]\u001b[0m\u001b[0;34m,\u001b[0m  \u001b[0mlabel\u001b[0m\u001b[0;34m=\u001b[0m\u001b[0;34mr'$\\sigma_0 = 0$'\u001b[0m\u001b[0;34m)\u001b[0m\u001b[0;34m\u001b[0m\u001b[0;34m\u001b[0m\u001b[0m\n\u001b[0m\u001b[1;32m      4\u001b[0m \u001b[0max\u001b[0m\u001b[0;34m.\u001b[0m\u001b[0mplot\u001b[0m\u001b[0;34m(\u001b[0m\u001b[0msim1\u001b[0m\u001b[0;34m.\u001b[0m\u001b[0mhistory\u001b[0m\u001b[0;34m[\u001b[0m\u001b[0;34m'z'\u001b[0m\u001b[0;34m]\u001b[0m\u001b[0;34m,\u001b[0m \u001b[0msim1\u001b[0m\u001b[0;34m.\u001b[0m\u001b[0mhistory\u001b[0m\u001b[0;34m[\u001b[0m\u001b[0;34m'igm_Tk'\u001b[0m\u001b[0;34m]\u001b[0m\u001b[0;34m,\u001b[0m \u001b[0mlabel\u001b[0m\u001b[0;34m=\u001b[0m\u001b[0;34mr'$Vchib=2.5 km/s$'\u001b[0m\u001b[0;34m)\u001b[0m\u001b[0;34m\u001b[0m\u001b[0;34m\u001b[0m\u001b[0m\n\u001b[1;32m      5\u001b[0m \u001b[0max\u001b[0m\u001b[0;34m.\u001b[0m\u001b[0mplot\u001b[0m\u001b[0;34m(\u001b[0m\u001b[0msim2\u001b[0m\u001b[0;34m.\u001b[0m\u001b[0mhistory\u001b[0m\u001b[0;34m[\u001b[0m\u001b[0;34m'z'\u001b[0m\u001b[0;34m]\u001b[0m\u001b[0;34m,\u001b[0m \u001b[0msim2\u001b[0m\u001b[0;34m.\u001b[0m\u001b[0mhistory\u001b[0m\u001b[0;34m[\u001b[0m\u001b[0;34m'igm_Tk'\u001b[0m\u001b[0;34m]\u001b[0m\u001b[0;34m,\u001b[0m \u001b[0mlabel\u001b[0m\u001b[0;34m=\u001b[0m\u001b[0;34mr'$Vchib=0$'\u001b[0m\u001b[0;34m)\u001b[0m\u001b[0;34m\u001b[0m\u001b[0;34m\u001b[0m\u001b[0m\n",
      "\u001b[0;31mNameError\u001b[0m: name 'sim0' is not defined"
     ]
    },
    {
     "data": {
      "image/png": "[encoded data removed]",
      "text/plain": [
       "<Figure size 432x288 with 1 Axes>"
      ]
     },
     "metadata": {
      "needs_background": "light"
     },
     "output_type": "display_data"
    }
   ],
   "source": [
    "fig, ax = plt.subplots()\n",
    "\n",
    "ax.plot(sim0.history['z'], sim0.history['igm_Tk'],  label=r'$\\sigma_0 = 0$')\n",
    "ax.plot(sim1.history['z'], sim1.history['igm_Tk'], label=r'$Vchib=2.5 km/s$')\n",
    "ax.plot(sim2.history['z'], sim2.history['igm_Tk'], label=r'$Vchib=0$')\n",
    "ax.axvline(60)\n",
    "\n",
    "ax.set(yscale='log', xscale='log', xlim=(0,100),\n",
    "    xlabel='z', ylabel=r'$T_k$'\n",
    ")\n",
    "ax.legend()\n",
    "plt.show()"
   ]
  },
  {
   "cell_type": "code",
   "execution_count": 89,
   "metadata": {},
   "outputs": [
    {
     "data": {
      "image/png": "[encoded data removed]",
      "text/plain": [
       "<Figure size 432x288 with 1 Axes>"
      ]
     },
     "metadata": {
      "needs_background": "light"
     },
     "output_type": "display_data"
    }
   ],
   "source": [
    "fig, ax = plt.subplots()\n",
    "\n",
    "ax.plot(sim.history['z'], sim.history['igm_Tchi'], label=r'$Vchib=2.5 km/s$')\n",
    "# ax.plot(sim0.history['z'], sim0.history['igm_Tchi'],  label=r'$\\sigma_0 = 0$')\n",
    "ax.plot(sim1.history['z'], sim1.history['igm_Tchi'], label=r'$Vchib=0$')\n",
    "\n",
    "ax.set(yscale='log', xscale='log', xlim=(0,60))\n",
    "ax.legend()\n",
    "plt.show()"
   ]
  },
  {
   "cell_type": "code",
   "execution_count": 12,
   "metadata": {},
   "outputs": [
    {
     "data": {
      "text/plain": [
       "Text(0,0.5,'Temperature')"
      ]
     },
     "execution_count": 12,
     "metadata": {},
     "output_type": "execute_result"
    },
    {
     "data": {
      "image/png": "[encoded data removed]",
      "text/plain": [
       "<Figure size 432x288 with 1 Axes>"
      ]
     },
     "metadata": {},
     "output_type": "display_data"
    }
   ],
   "source": [
    "x = sim.history['z']\n",
    "y1 = sim.history['igm_Tchi']\n",
    "# y1 = sim.history['igm_Vchib']\n",
    "y2 = sim.history['igm_Tk']\n",
    "\n",
    "fig, ax = plt.subplots()\n",
    "fig.patch.set_facecolor('white')\n",
    "\n",
    "# ax.plot(x, y1 - y2)\n",
    "y3 = (1+x)**2\n",
    "y3 *= y1[-1] / y3[-1]\n",
    "\n",
    "ax.plot(x, y1, label='Tchi')\n",
    "# ax.set(xlim=(1,70))\n",
    "# ax.plot(x, y2)\n",
    "ax.plot(x, y3, label='(1/a^2)')\n",
    "ax.axvline(sim.pf['initial_redshift'], ls='--', c='grey')\n",
    "\n",
    "plt.legend()\n",
    "plt.yscale('log')\n",
    "plt.xscale('log')\n",
    "plt.xlabel(\"z\")\n",
    "plt.ylabel(\"Temperature\")\n",
    "# plt.savefig('figs/Tchi_sig1e-25.pdf')"
   ]
  },
  {
   "cell_type": "code",
   "execution_count": 71,
   "metadata": {},
   "outputs": [
    {
     "data": {
      "text/plain": [
       "60.0"
      ]
     },
     "execution_count": 71,
     "metadata": {},
     "output_type": "execute_result"
    }
   ],
   "source": [
    "sim.pf['initial_redshift']"
   ]
  },
  {
   "cell_type": "code",
   "execution_count": 65,
   "metadata": {},
   "outputs": [
    {
     "data": {
      "text/plain": [
       "Text(0,0.5,'Temperature')"
      ]
     },
     "execution_count": 65,
     "metadata": {},
     "output_type": "execute_result"
    },
    {
     "data": {
      "image/png": "[encoded data removed]",
      "text/plain": [
       "<Figure size 432x288 with 1 Axes>"
      ]
     },
     "metadata": {
      "needs_background": "light"
     },
     "output_type": "display_data"
    }
   ],
   "source": [
    "plt.plot(sim.history['z'], sim.history['igm_Vchib'])\n",
    "\n",
    "# plt.xlim(0, 60)\n",
    "# plt.xlim(1000, 100_000)\n",
    "# plt.plot(therm['z'], therm['T_dmeff'])\n",
    "\n",
    "\n",
    "plt.yscale('log')\n",
    "plt.xscale('log')\n",
    "plt.xlabel(\"z\")\n",
    "plt.ylabel(\"Temperature\")"
   ]
  },
  {
   "cell_type": "code",
   "execution_count": 68,
   "metadata": {},
   "outputs": [
    {
     "data": {
      "text/plain": [
       "\u001b[0;31mDocstring:\u001b[0m\n",
       "get_current_derived_parameters(names)\n",
       "\n",
       "Return a dictionary containing an entry for all the names defined in the\n",
       "input list.\n",
       "\n",
       "Parameters\n",
       "----------\n",
       "names : list\n",
       "        Derived parameters that can be asked from Monte Python, or\n",
       "        elsewhere.\n",
       "\n",
       "Returns\n",
       "-------\n",
       "derived : dict\n",
       "\n",
       ".. warning::\n",
       "\n",
       "    This method used to take as an argument directly the data class from\n",
       "    Monte Python. To maintain compatibility with this old feature, a\n",
       "    check is performed to verify that names is indeed a list. If not, it\n",
       "    returns a TypeError. The old version of this function, when asked\n",
       "    with the new argument, will raise an AttributeError.\n",
       "\u001b[0;31mType:\u001b[0m      builtin_function_or_method\n"
      ]
     },
     "metadata": {},
     "output_type": "display_data"
    }
   ],
   "source": [
    "cl."
   ]
  },
  {
   "cell_type": "code",
   "execution_count": 9,
   "metadata": {},
   "outputs": [],
   "source": []
  },
  {
   "cell_type": "code",
   "execution_count": 9,
   "metadata": {},
   "outputs": [
    {
     "data": {
      "text/plain": [
       "{'igm_Tk': array([27256.36275   , 27255.        , 27253.63725   , ...,\n",
       "          706.83868655,   707.30383766,   707.76830964]),\n",
       " 'igm_e': array([1.16374406, 1.16374406, 1.16374406, ..., 0.10078801, 0.10088932,\n",
       "        0.10099056]),\n",
       " 'igm_h_1': array([0.07515088, 0.07515088, 0.07515088, ..., 0.89921199, 0.89911068,\n",
       "        0.89900944]),\n",
       " 'igm_h_2': array([0.92484912, 0.92484912, 0.92484912, ..., 0.10078801, 0.10088932,\n",
       "        0.10099056]),\n",
       " 'igm_rho': array([4.19034996e-19, 4.18972148e-19, 4.18909305e-19, ...,\n",
       "        1.68682037e-27, 1.68682037e-27, 1.68682037e-27]),\n",
       " 'igm_n': array([4.08880481e+05, 4.08819155e+05, 4.08757835e+05, ...,\n",
       "        4.54510492e-05, 4.53777115e-05, 4.53045550e-05]),\n",
       " 'igm_Ja': array([0.00000000e+00, 0.00000000e+00, 0.00000000e+00, ...,\n",
       "        4.42860576e-09, 4.42500299e-09, 4.42140532e-09]),\n",
       " 'igm_Jlw': array([0., 0., 0., ..., 0., 0., 0.]),\n",
       " 'igm_dTb': array([-1.42114776e-14,  0.00000000e+00, -1.42107671e-14, ...,\n",
       "         2.60781179e+00,  2.60333967e+00,  2.59888063e+00]),\n",
       " 'igm_Ts': array([27256.36275   , 27255.        , 27253.63725   , ...,\n",
       "          537.71090649,   537.87169257,   538.03181098]),\n",
       " 'cgm_h_1': array([0.99999999, 0.99999999, 0.99999999, ..., 0.14327487, 0.14308217,\n",
       "        0.14289   ]),\n",
       " 'cgm_h_2': array([1.00000000e-08, 1.00000000e-08, 1.00000000e-08, ...,\n",
       "        8.56725135e-01, 8.56917828e-01, 8.57109997e-01]),\n",
       " 'cgm_e': array([1.00000000e-08, 1.00000000e-08, 1.00000000e-08, ...,\n",
       "        8.56725135e-01, 8.56917828e-01, 8.57109997e-01]),\n",
       " 'cgm_rho': array([4.19034996e-19, 4.18972148e-19, 4.18909305e-19, ...,\n",
       "        1.68682037e-27, 1.68682037e-27, 1.68682037e-27]),\n",
       " 'cgm_Tk': array([10000., 10000., 10000., ..., 10000., 10000., 10000.]),\n",
       " 'cgm_n': array([1.88968969e+05, 1.88940627e+05, 1.88912287e+05, ...,\n",
       "        7.66633582e-05, 7.65405570e-05, 7.64180413e-05]),\n",
       " 'dTb': array([-1.42114776e-14,  0.00000000e+00, -1.42107671e-14, ...,\n",
       "         2.60781179e+00,  2.60333967e+00,  2.59888063e+00]),\n",
       " 'Ts': array([27256.36275   , 27255.        , 27253.63725   , ...,\n",
       "          537.71090649,   537.87169257,   538.03181098]),\n",
       " 'Ja': array([0.00000000e+00, 0.00000000e+00, 0.00000000e+00, ...,\n",
       "        4.42860576e-09, 4.42500299e-09, 4.42140532e-09]),\n",
       " 'Jlw': array([0., 0., 0., ..., 0., 0., 0.]),\n",
       " 'igm_k_ion': array([0.00000000e+00, 0.00000000e+00, 0.00000000e+00, ...,\n",
       "        4.72446810e-18, 4.72251598e-18, 4.72056333e-18]),\n",
       " 'igm_k_heat': array([0.00000000e+00, 0.00000000e+00, 0.00000000e+00, ...,\n",
       "        1.14180513e-29, 1.14133335e-29, 1.14086143e-29]),\n",
       " 'igm_k_ion2': array([0., 0., 0., ..., 0., 0., 0.]),\n",
       " 'cgm_k_ion': array([0.00000000e+00, 0.00000000e+00, 0.00000000e+00, ...,\n",
       "        1.36877836e-16, 1.36805857e-16, 1.36733885e-16]),\n",
       " 'cgm_k_heat': array([0., 0., 0., ..., 0., 0., 0.]),\n",
       " 'cgm_k_ion2': array([0., 0., 0., ..., 0., 0., 0.]),\n",
       " 't': array([0.00000000e+00, 0.00000000e+00, 0.00000000e+00, ...,\n",
       "        3.58143241e+16, 3.58458817e+16, 3.58774393e+16]),\n",
       " 'z': array([9.99950000e+03, 9.99900000e+03, 9.99850000e+03, ...,\n",
       "        5.00965835e+00, 5.00623179e+00, 5.00281008e+00]),\n",
       " 'Tr': array([0., 0., 0., ..., 0., 0., 0.]),\n",
       " 'igm_T_chi': None,\n",
       " 'igm': None}"
      ]
     },
     "execution_count": 9,
     "metadata": {},
     "output_type": "execute_result"
    }
   ],
   "source": [
    "sim.history"
   ]
  },
  {
   "cell_type": "code",
   "execution_count": 23,
   "metadata": {},
   "outputs": [
    {
     "ename": "TypeError",
     "evalue": "no default __reduce__ due to non-trivial __cinit__",
     "output_type": "error",
     "traceback": [
      "\u001b[0;31m---------------------------------------------------------------------------\u001b[0m",
      "\u001b[0;31mTypeError\u001b[0m                                 Traceback (most recent call last)",
      "\u001b[0;32m<ipython-input-23-ef3029f50efe>\u001b[0m in \u001b[0;36m<module>\u001b[0;34m\u001b[0m\n\u001b[1;32m      1\u001b[0m \u001b[0;32mimport\u001b[0m \u001b[0mpickle\u001b[0m\u001b[0;34m\u001b[0m\u001b[0;34m\u001b[0m\u001b[0m\n\u001b[1;32m      2\u001b[0m \u001b[0;32mwith\u001b[0m \u001b[0mopen\u001b[0m\u001b[0;34m(\u001b[0m\u001b[0;34m'/Users/jacoblashner/cl_dmeff.pkl'\u001b[0m\u001b[0;34m,\u001b[0m \u001b[0;34m'w'\u001b[0m\u001b[0;34m)\u001b[0m \u001b[0;32mas\u001b[0m \u001b[0mf\u001b[0m\u001b[0;34m:\u001b[0m\u001b[0;34m\u001b[0m\u001b[0;34m\u001b[0m\u001b[0m\n\u001b[0;32m----> 3\u001b[0;31m     \u001b[0mpickle\u001b[0m\u001b[0;34m.\u001b[0m\u001b[0mdump\u001b[0m\u001b[0;34m(\u001b[0m\u001b[0mcl\u001b[0m\u001b[0;34m,\u001b[0m \u001b[0mf\u001b[0m\u001b[0;34m,\u001b[0m \u001b[0mprotocol\u001b[0m\u001b[0;34m=\u001b[0m\u001b[0;36m4\u001b[0m\u001b[0;34m)\u001b[0m\u001b[0;34m\u001b[0m\u001b[0;34m\u001b[0m\u001b[0m\n\u001b[0m",
      "\u001b[0;32m~/dm/.dmenv/lib/python3.7/site-packages/classy.cpython-37m-darwin.so\u001b[0m in \u001b[0;36mclassy.Class.__reduce_cython__\u001b[0;34m()\u001b[0m\n",
      "\u001b[0;31mTypeError\u001b[0m: no default __reduce__ due to non-trivial __cinit__"
     ]
    }
   ],
   "source": [
    "import pickle\n",
    "with open('/Users/jacoblashner/cl_dmeff.pkl', 'w') as f:\n",
    "    pickle.dump(cl, f)"
   ]
  },
  {
   "cell_type": "code",
   "execution_count": 17,
   "metadata": {},
   "outputs": [
    {
     "name": "stdout",
     "output_type": "stream",
     "text": [
      "# Loaded $ARES/input/inits/inits_planck_TTTEEE_lowl_lowE_best.txt.\n",
      "\n",
      "##############################################################################################################\n",
      "####                                      ARES Simulation: Overview                                       ####\n",
      "##############################################################################################################\n",
      "#### ---------------------------------------------------------------------------------------------------- ####\n",
      "#### Uniform Backgrounds                                                                                  ####\n",
      "#### ---------------------------------------------------------------------------------------------------- ####\n",
      "####               sfrd      sed    radio    O/IR    Ly-a     LW     Ly-C   X-ray    RTE                  ####\n",
      "#### pop #0  :    fcoll      yes                      x       x                                           ####\n",
      "#### pop #1  : link:sfrd:0   yes                                              x                           ####\n",
      "#### pop #2  : link:sfrd:0   yes                                      x                                   ####\n",
      "#### ---------------------------------------------------------------------------------------------------- ####\n",
      "#### Physics                                                                                              ####\n",
      "#### ---------------------------------------------------------------------------------------------------- ####\n",
      "#### cgm_initial_temperature        : [10000.0]                                                           ####\n",
      "#### clumping_factor                : 1                                                                   ####\n",
      "#### secondary_ionization           : 1                                                                   ####\n",
      "#### approx_Salpha                  : 1                                                                   ####\n",
      "#### include_He                     : False                                                               ####\n",
      "#### feedback_LW                    : False                                                               ####\n",
      "##############################################################################################################\n",
      "# Loaded $ARES/input/hmf/hmf_ST_planck_TTTEEE_lowl_lowE_best_logM_1400_4-18_z_1201_0-60.hdf5.\n"
     ]
    }
   ],
   "source": [
    "sim = ares.simulations.Global21cm(verbose=True)\n",
    "sim.run()"
   ]
  },
  {
   "cell_type": "code",
   "execution_count": 35,
   "metadata": {},
   "outputs": [
    {
     "data": {
      "text/plain": [
       "(1, 3000)"
      ]
     },
     "execution_count": 35,
     "metadata": {},
     "output_type": "execute_result"
    },
    {
     "data": {
      "image/png": "[encoded data removed]",
      "text/plain": [
       "<Figure size 432x288 with 1 Axes>"
      ]
     },
     "metadata": {
      "needs_background": "light"
     },
     "output_type": "display_data"
    }
   ],
   "source": [
    "plt.plot(sim.history['z'], sim.history['igm_e'])\n",
    "plt.plot(sim.history['z'], sim.history['igm_h_2'])\n",
    "plt.plot(sim.history['z'], sim.history['igm_h_1'])\n",
    "plt.plot(therm['z'], therm['x_e'])\n",
    "\n",
    "plt.xlim(1, 3000)"
   ]
  },
  {
   "cell_type": "code",
   "execution_count": 2,
   "metadata": {},
   "outputs": [],
   "source": [
    "h = Planck.h\n",
    "class LCDM:\n",
    "    h = h\n",
    "    H0 = Planck.H0.value\n",
    "    omega_b = Planck.Ob0 * h ** 2\n",
    "    omega_cdm = (Planck.Om0 - Planck.Ob0) * h ** 2\n",
    "    omega_nu = Planck.Onu0\n",
    "    omega_k = Planck.Ok0\n",
    "\n",
    "    m_ncdm = sum(Planck.m_nu).value\n",
    "    Neff = Planck.Neff\n",
    "    N_ncdm = 1\n",
    "    N_ur = Planck.Neff - N_ncdm\n",
    "\n",
    "    Tcmb = Planck.Tcmb0.value\n",
    "    A_s = 2.097e-9\n",
    "    tau_reio = 0.0540\n",
    "    n_s = 0.9652\n",
    "    YHe = 0.24537116583825905\n",
    "    reion_exponent = 1.5\n",
    "    reion_width = 0.5"
   ]
  },
  {
   "cell_type": "code",
   "execution_count": 37,
   "metadata": {},
   "outputs": [],
   "source": [
    "class_params = {\n",
    "    'h': LCDM.h, 'omega_b': LCDM.omega_b, 'omega_cdm': LCDM.omega_cdm,\n",
    "    'Omega_k': LCDM.omega_k, 'N_ur': LCDM.N_ur, 'N_ncdm': LCDM.N_ncdm,\n",
    "    'm_ncdm': LCDM.m_ncdm, 'A_s': LCDM.A_s, 'n_s': LCDM.n_s,\n",
    "    'T_cmb': LCDM.Tcmb, 'tau_reio': LCDM.tau_reio, 'YHe': LCDM.YHe,\n",
    "    'reionization_exponent': LCDM.reion_exponent,\n",
    "    'reionization_width': LCDM.reion_width, 'P_k_max_1/Mpc': 200,\n",
    "    'output': 'dTk,mPk,tCl',\n",
    "}\n",
    "\n",
    "dm_params = {\n",
    "    'omega_dmeff': 0.12038, 'omega_cdm': 1e-10, 'm_dmeff': 1.0,\n",
    "    'sigma_dmeff': 1e-23, \n",
    "    'npow_dmeff': 0,\n",
    "}\n",
    "cl = classy.Class()\n",
    "cl.set(class_params)\n",
    "cl.set(dm_params)\n",
    "\n",
    "cl.compute()"
   ]
  },
  {
   "cell_type": "code",
   "execution_count": 38,
   "metadata": {},
   "outputs": [
    {
     "data": {
      "image/png": "[encoded data removed]",
      "text/plain": [
       "<Figure size 432x288 with 1 Axes>"
      ]
     },
     "metadata": {},
     "output_type": "display_data"
    }
   ],
   "source": [
    "therm = cl.get_thermodynamics()\n",
    "x = therm['z'] \n",
    "y1 = therm['T_dmeff']\n",
    "y2 = therm['Tb [K]']\n",
    "\n",
    "fig, ax = plt.subplots()\n",
    "fig.patch.set_facecolor('white')\n",
    "ax.plot(x, y1)\n",
    "ax.plot(x, y2)\n",
    "ax.set(\n",
    "#     xlim=(1000, 10_000), ylim=(1, 10_000),\n",
    "    xscale='log', yscale='log',\n",
    "    xlabel='z', ylabel='T_chi',\n",
    ")\n",
    "plt.show()\n"
   ]
  },
  {
   "cell_type": "code",
   "execution_count": 31,
   "metadata": {},
   "outputs": [
    {
     "data": {
      "text/plain": [
       "dict_keys(['z', 'conf. time [Mpc]', 'x_e', \"kappa' [Mpc^-1]\", 'exp(-kappa)', 'g [Mpc^-1]', 'Tb [K]', 'c_b^2', 'tau_d', 'T_dmeff', 'rate_dmeff_mom [Mpc^-1]', \"rate_dmeff_mom'\", 'rate_dmeff_temp [Mpc^-1]', 'c_dmeff^2'])"
      ]
     },
     "execution_count": 31,
     "metadata": {},
     "output_type": "execute_result"
    }
   ],
   "source": [
    "therm.keys()"
   ]
  },
  {
   "cell_type": "code",
   "execution_count": null,
   "metadata": {},
   "outputs": [],
   "source": []
  }
 ],
 "metadata": {
  "kernelspec": {
   "display_name": "Python 3",
   "language": "python",
   "name": "python3"
  },
  "language_info": {
   "codemirror_mode": {
    "name": "ipython",
    "version": 3
   },
   "file_extension": ".py",
   "mimetype": "text/x-python",
   "name": "python",
   "nbconvert_exporter": "python",
   "pygments_lexer": "ipython3",
   "version": "3.8.3"
  }
 },
 "nbformat": 4,
 "nbformat_minor": 4
}
